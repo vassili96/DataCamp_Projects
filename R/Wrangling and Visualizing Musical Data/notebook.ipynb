{
 "cells": [
  {
   "cell_type": "markdown",
   "metadata": {
    "dc": {
     "key": "4"
    },
    "deletable": false,
    "editable": false,
    "run_control": {
     "frozen": true
    },
    "tags": [
     "context"
    ]
   },
   "source": [
    "## 1. Introduction\n",
    "<p>How do musicians choose the chords they use in their songs? Do guitarists, pianists, and singers gravitate towards different kinds of harmony?</p>\n",
    "<p>We can uncover trends in the kinds of chord progressions used by popular artists by analyzing the harmonic data provided in the <a href=\"http://ddmal.music.mcgill.ca/research/billboard\">McGill Billboard Dataset</a>. This dataset includes professionally tagged chords for several hundred pop/rock songs representative of singles that made the Billboard Hot 100 list between 1958 and 1991. Using the data-wrangling tools available in the <code>dplyr</code> package, and the visualization tools available in the <code>ggplot2</code> package, we can explore the most common chords and chord progressions in these songs, and contrast the harmonies of some guitar-led and piano-led artists to see where the \"affordances\" of those instruments may affect the chord choices artists make.</p>"
   ]
  },
  {
   "cell_type": "code",
   "execution_count": 25,
   "metadata": {
    "dc": {
     "key": "4"
    },
    "tags": [
     "sample_code"
    ]
   },
   "outputs": [
    {
     "name": "stderr",
     "output_type": "stream",
     "text": [
      "Parsed with column specification:\n",
      "cols(\n",
      "  year = col_double(),\n",
      "  chord = col_character(),\n",
      "  root_integer = col_character(),\n",
      "  root_roman = col_character(),\n",
      "  quality = col_character(),\n",
      "  title_compressed = col_character(),\n",
      "  artist_compressed = col_character(),\n",
      "  title = col_character(),\n",
      "  artist = col_character()\n",
      ")\n"
     ]
    },
    {
     "data": {
      "text/html": [
       "<table>\n",
       "<thead><tr><th scope=col>year</th><th scope=col>chord</th><th scope=col>root_integer</th><th scope=col>root_roman</th><th scope=col>quality</th><th scope=col>title_compressed</th><th scope=col>artist_compressed</th><th scope=col>title</th><th scope=col>artist</th></tr></thead>\n",
       "<tbody>\n",
       "\t<tr><td>1961        </td><td>A:min       </td><td>9           </td><td>VI          </td><td>min         </td><td>idon'tmind  </td><td>jamesbrown  </td><td>I Don't Mind</td><td>James Brown </td></tr>\n",
       "\t<tr><td>1961        </td><td>C:maj       </td><td>0           </td><td>I           </td><td>maj         </td><td>idon'tmind  </td><td>jamesbrown  </td><td>I Don't Mind</td><td>James Brown </td></tr>\n",
       "\t<tr><td>1961        </td><td>A:min       </td><td>9           </td><td>VI          </td><td>min         </td><td>idon'tmind  </td><td>jamesbrown  </td><td>I Don't Mind</td><td>James Brown </td></tr>\n",
       "\t<tr><td>1961        </td><td>C:maj       </td><td>0           </td><td>I           </td><td>maj         </td><td>idon'tmind  </td><td>jamesbrown  </td><td>I Don't Mind</td><td>James Brown </td></tr>\n",
       "\t<tr><td>1961        </td><td>A:min       </td><td>9           </td><td>VI          </td><td>min         </td><td>idon'tmind  </td><td>jamesbrown  </td><td>I Don't Mind</td><td>James Brown </td></tr>\n",
       "\t<tr><td>1961        </td><td>C:maj       </td><td>0           </td><td>I           </td><td>maj         </td><td>idon'tmind  </td><td>jamesbrown  </td><td>I Don't Mind</td><td>James Brown </td></tr>\n",
       "</tbody>\n",
       "</table>\n"
      ],
      "text/latex": [
       "\\begin{tabular}{r|lllllllll}\n",
       " year & chord & root\\_integer & root\\_roman & quality & title\\_compressed & artist\\_compressed & title & artist\\\\\n",
       "\\hline\n",
       "\t 1961         & A:min        & 9            & VI           & min          & idon'tmind   & jamesbrown   & I Don't Mind & James Brown \\\\\n",
       "\t 1961         & C:maj        & 0            & I            & maj          & idon'tmind   & jamesbrown   & I Don't Mind & James Brown \\\\\n",
       "\t 1961         & A:min        & 9            & VI           & min          & idon'tmind   & jamesbrown   & I Don't Mind & James Brown \\\\\n",
       "\t 1961         & C:maj        & 0            & I            & maj          & idon'tmind   & jamesbrown   & I Don't Mind & James Brown \\\\\n",
       "\t 1961         & A:min        & 9            & VI           & min          & idon'tmind   & jamesbrown   & I Don't Mind & James Brown \\\\\n",
       "\t 1961         & C:maj        & 0            & I            & maj          & idon'tmind   & jamesbrown   & I Don't Mind & James Brown \\\\\n",
       "\\end{tabular}\n"
      ],
      "text/markdown": [
       "\n",
       "| year | chord | root_integer | root_roman | quality | title_compressed | artist_compressed | title | artist |\n",
       "|---|---|---|---|---|---|---|---|---|\n",
       "| 1961         | A:min        | 9            | VI           | min          | idon'tmind   | jamesbrown   | I Don't Mind | James Brown  |\n",
       "| 1961         | C:maj        | 0            | I            | maj          | idon'tmind   | jamesbrown   | I Don't Mind | James Brown  |\n",
       "| 1961         | A:min        | 9            | VI           | min          | idon'tmind   | jamesbrown   | I Don't Mind | James Brown  |\n",
       "| 1961         | C:maj        | 0            | I            | maj          | idon'tmind   | jamesbrown   | I Don't Mind | James Brown  |\n",
       "| 1961         | A:min        | 9            | VI           | min          | idon'tmind   | jamesbrown   | I Don't Mind | James Brown  |\n",
       "| 1961         | C:maj        | 0            | I            | maj          | idon'tmind   | jamesbrown   | I Don't Mind | James Brown  |\n",
       "\n"
      ],
      "text/plain": [
       "  year chord root_integer root_roman quality title_compressed artist_compressed\n",
       "1 1961 A:min 9            VI         min     idon'tmind       jamesbrown       \n",
       "2 1961 C:maj 0            I          maj     idon'tmind       jamesbrown       \n",
       "3 1961 A:min 9            VI         min     idon'tmind       jamesbrown       \n",
       "4 1961 C:maj 0            I          maj     idon'tmind       jamesbrown       \n",
       "5 1961 A:min 9            VI         min     idon'tmind       jamesbrown       \n",
       "6 1961 C:maj 0            I          maj     idon'tmind       jamesbrown       \n",
       "  title        artist     \n",
       "1 I Don't Mind James Brown\n",
       "2 I Don't Mind James Brown\n",
       "3 I Don't Mind James Brown\n",
       "4 I Don't Mind James Brown\n",
       "5 I Don't Mind James Brown\n",
       "6 I Don't Mind James Brown"
      ]
     },
     "metadata": {},
     "output_type": "display_data"
    }
   ],
   "source": [
    "# Loading individual Tidyverse packages\n",
    "library(dplyr)\n",
    "library(readr)\n",
    "library(ggplot2)\n",
    "library(stringr)\n",
    "\n",
    "# Reading in the McGill Billboard chord data\n",
    "bb <- read_csv('datasets/bb_chords.csv')\n",
    "\n",
    "# Taking a look at the first rows in bb\n",
    "head(bb)"
   ]
  },
  {
   "cell_type": "markdown",
   "metadata": {
    "dc": {
     "key": "12"
    },
    "deletable": false,
    "editable": false,
    "run_control": {
     "frozen": true
    },
    "tags": [
     "context"
    ]
   },
   "source": [
    "## 2. The most common chords\n",
    "<p>As seen in the previous task, this is a <em>tidy</em> dataset: each row represents a single observation, and each column a particular variable or attribute of that observation. Note that the metadata for each song (title, artist, year) is repeated for each chord -- like \"I Don't Mind\" by James Brown, 1961 -- while the unique attributes of each chord (chord symbol, chord quality, and analytical designations like integer and Roman-numeral notation) is included once for each chord change.</p>\n",
    "<p>A key element of the style of any popular musical artist is the kind of chords they use in their songs. But not all chords are created equal! In addition to differences in how they sound, some chords are simply easier to play than others. On top of that, some chords are easier to play on one instrument than they are on another. And while master musicians can play a wide variety of chords and progressions with ease, it's not a stretch to think that even the best musicians may choose more \"idiomatic\" chords and progressions for their instrument.</p>\n",
    "<p>To start to explore that, let's look at the most common chords in the McGill Billboard Dataset.</p>"
   ]
  },
  {
   "cell_type": "code",
   "execution_count": 26,
   "metadata": {
    "dc": {
     "key": "12"
    },
    "tags": [
     "sample_code"
    ]
   },
   "outputs": [
    {
     "data": {
      "text/html": [
       "<table>\n",
       "<thead><tr><th scope=col>chord</th><th scope=col>n</th></tr></thead>\n",
       "<tbody>\n",
       "\t<tr><td>C:maj </td><td>1183  </td></tr>\n",
       "\t<tr><td>G:maj </td><td>1140  </td></tr>\n",
       "\t<tr><td>A:maj </td><td>1071  </td></tr>\n",
       "\t<tr><td>D:maj </td><td>1054  </td></tr>\n",
       "\t<tr><td>F:maj </td><td> 859  </td></tr>\n",
       "\t<tr><td>E:maj </td><td> 839  </td></tr>\n",
       "\t<tr><td>Bb:maj</td><td> 718  </td></tr>\n",
       "\t<tr><td>B:maj </td><td> 503  </td></tr>\n",
       "\t<tr><td>Ab:maj</td><td> 375  </td></tr>\n",
       "\t<tr><td>Eb:maj</td><td> 360  </td></tr>\n",
       "\t<tr><td>A:min </td><td> 328  </td></tr>\n",
       "\t<tr><td>E:min </td><td> 298  </td></tr>\n",
       "\t<tr><td>Db:maj</td><td> 293  </td></tr>\n",
       "\t<tr><td>D:min </td><td> 250  </td></tr>\n",
       "\t<tr><td>B:min </td><td> 236  </td></tr>\n",
       "\t<tr><td>N     </td><td> 201  </td></tr>\n",
       "\t<tr><td>E:min7</td><td> 186  </td></tr>\n",
       "\t<tr><td>C:min </td><td> 176  </td></tr>\n",
       "\t<tr><td>D:7   </td><td> 176  </td></tr>\n",
       "\t<tr><td>A:min7</td><td> 170  </td></tr>\n",
       "</tbody>\n",
       "</table>\n"
      ],
      "text/latex": [
       "\\begin{tabular}{r|ll}\n",
       " chord & n\\\\\n",
       "\\hline\n",
       "\t C:maj  & 1183  \\\\\n",
       "\t G:maj  & 1140  \\\\\n",
       "\t A:maj  & 1071  \\\\\n",
       "\t D:maj  & 1054  \\\\\n",
       "\t F:maj  &  859  \\\\\n",
       "\t E:maj  &  839  \\\\\n",
       "\t Bb:maj &  718  \\\\\n",
       "\t B:maj  &  503  \\\\\n",
       "\t Ab:maj &  375  \\\\\n",
       "\t Eb:maj &  360  \\\\\n",
       "\t A:min  &  328  \\\\\n",
       "\t E:min  &  298  \\\\\n",
       "\t Db:maj &  293  \\\\\n",
       "\t D:min  &  250  \\\\\n",
       "\t B:min  &  236  \\\\\n",
       "\t N      &  201  \\\\\n",
       "\t E:min7 &  186  \\\\\n",
       "\t C:min  &  176  \\\\\n",
       "\t D:7    &  176  \\\\\n",
       "\t A:min7 &  170  \\\\\n",
       "\\end{tabular}\n"
      ],
      "text/markdown": [
       "\n",
       "| chord | n |\n",
       "|---|---|\n",
       "| C:maj  | 1183   |\n",
       "| G:maj  | 1140   |\n",
       "| A:maj  | 1071   |\n",
       "| D:maj  | 1054   |\n",
       "| F:maj  |  859   |\n",
       "| E:maj  |  839   |\n",
       "| Bb:maj |  718   |\n",
       "| B:maj  |  503   |\n",
       "| Ab:maj |  375   |\n",
       "| Eb:maj |  360   |\n",
       "| A:min  |  328   |\n",
       "| E:min  |  298   |\n",
       "| Db:maj |  293   |\n",
       "| D:min  |  250   |\n",
       "| B:min  |  236   |\n",
       "| N      |  201   |\n",
       "| E:min7 |  186   |\n",
       "| C:min  |  176   |\n",
       "| D:7    |  176   |\n",
       "| A:min7 |  170   |\n",
       "\n"
      ],
      "text/plain": [
       "   chord  n   \n",
       "1  C:maj  1183\n",
       "2  G:maj  1140\n",
       "3  A:maj  1071\n",
       "4  D:maj  1054\n",
       "5  F:maj   859\n",
       "6  E:maj   839\n",
       "7  Bb:maj  718\n",
       "8  B:maj   503\n",
       "9  Ab:maj  375\n",
       "10 Eb:maj  360\n",
       "11 A:min   328\n",
       "12 E:min   298\n",
       "13 Db:maj  293\n",
       "14 D:min   250\n",
       "15 B:min   236\n",
       "16 N       201\n",
       "17 E:min7  186\n",
       "18 C:min   176\n",
       "19 D:7     176\n",
       "20 A:min7  170"
      ]
     },
     "metadata": {},
     "output_type": "display_data"
    }
   ],
   "source": [
    "# Counting the most common chords\n",
    "bb_count <- bb %>% count(chord,sort=T)\n",
    "\n",
    "# Displaying the top 20 chords\n",
    "head(bb_count,n=20)"
   ]
  },
  {
   "cell_type": "markdown",
   "metadata": {
    "dc": {
     "key": "19"
    },
    "deletable": false,
    "editable": false,
    "run_control": {
     "frozen": true
    },
    "tags": [
     "context"
    ]
   },
   "source": [
    "## 3. Visualizing the most common chords\n",
    "<p>Of course, it's easier to get a feel for just how common some of these chords are if we graph them and show the percentage of the total chord count represented by each chord.\n",
    "Musicians may notice right away that the most common chords in this corpus are chords that are easy to play on both the guitar and the piano: C, G, A, and D major — and to an extent, F and E major. (They also belong to keys, or scales, that are easy to play on most instruments, so they fit well with melodies and solos, as well.) After that, there is a steep drop off in the frequency with which individual chords appear. </p>\n",
    "<p>To illustrate this, here is a short video demonstrating the relative ease (and difficulty) of some of the most common (and not-so-common) chords in the McGill Billboard dataset.\n",
    "<br><br>\n",
    "<a href=\"https://player.vimeo.com/video/251381886\" target=\"blank_\"><img style=\"max-width: 500px;\" src=\"https://assets.datacamp.com/production/project_78/img/smaller_video_screenshot.jpeg\"></a></p>"
   ]
  },
  {
   "cell_type": "code",
   "execution_count": 27,
   "metadata": {
    "dc": {
     "key": "19"
    },
    "tags": [
     "sample_code"
    ]
   },
   "outputs": [
    {
     "data": {
      "image/png": "[encoded data removed]",
      "text/plain": [
       "plot without title"
      ]
     },
     "metadata": {},
     "output_type": "display_data"
    }
   ],
   "source": [
    "# Creating a bar plot from `bb_count`\n",
    "bb_count %>%\n",
    "  slice(1:20) %>%\n",
    "  mutate(share = n/sum(n),\n",
    "         chord = reorder(chord,share)) %>% ggplot(aes(x=chord,y=share))+\n",
    "  geom_bar(stat=\"identity\") +\n",
    "  coord_flip() +\n",
    "  xlab(\"chord\") +\n",
    "  ylab(\"share\")"
   ]
  },
  {
   "cell_type": "markdown",
   "metadata": {
    "dc": {
     "key": "26"
    },
    "deletable": false,
    "editable": false,
    "run_control": {
     "frozen": true
    },
    "tags": [
     "context"
    ]
   },
   "source": [
    "## 4. Chord \"bigrams\"\n",
    "<p>Just as some chords are more common and more idiomatic than others, not all chord <em>progressions</em> are created equal. To look for common patterns in the structuring of chord progressions, we can use many of the same modes of analysis used in text-mining to analyze phrases. A chord change is simply a <em>bigram</em> — a two-\"word\" phrase — composed of a starting chord and a following chord. Here are the most common two-chord \"phrases\" in the McGill Billboard dataset.\n",
    "To help you get your ear around some of these common progressions, here's a short audio clip containing some of the most common chord bigrams.\n",
    "<br><br></p>\n",
    "<audio controls src=\"http://assets.datacamp.com/production/project_79/img/bigrams.mp3\">\n",
    "  Your browser does not support the audio tag.\n",
    "</audio>"
   ]
  },
  {
   "cell_type": "code",
   "execution_count": 28,
   "metadata": {
    "dc": {
     "key": "26"
    },
    "tags": [
     "sample_code"
    ]
   },
   "outputs": [
    {
     "data": {
      "text/html": [
       "<table>\n",
       "<thead><tr><th scope=col>bigram</th><th scope=col>n</th></tr></thead>\n",
       "<tbody>\n",
       "\t<tr><td>G:maj D:maj </td><td>241         </td></tr>\n",
       "\t<tr><td>C:maj F:maj </td><td>234         </td></tr>\n",
       "\t<tr><td>C:maj G:maj </td><td>217         </td></tr>\n",
       "\t<tr><td>B:maj E:maj </td><td>202         </td></tr>\n",
       "\t<tr><td>F:maj C:maj </td><td>195         </td></tr>\n",
       "\t<tr><td>A:maj E:maj </td><td>190         </td></tr>\n",
       "\t<tr><td>A:maj D:maj </td><td>189         </td></tr>\n",
       "\t<tr><td>D:maj G:maj </td><td>185         </td></tr>\n",
       "\t<tr><td>G:maj C:maj </td><td>185         </td></tr>\n",
       "\t<tr><td>D:maj A:maj </td><td>179         </td></tr>\n",
       "\t<tr><td>E:maj A:maj </td><td>175         </td></tr>\n",
       "\t<tr><td>F:maj Bb:maj</td><td>143         </td></tr>\n",
       "\t<tr><td>Bb:maj F:maj</td><td>134         </td></tr>\n",
       "\t<tr><td>E:maj B:maj </td><td>134         </td></tr>\n",
       "\t<tr><td>Bb:maj C:maj</td><td>133         </td></tr>\n",
       "\t<tr><td>G:maj A:maj </td><td>133         </td></tr>\n",
       "\t<tr><td>A:maj B:maj </td><td>112         </td></tr>\n",
       "\t<tr><td>A:maj G:maj </td><td>105         </td></tr>\n",
       "\t<tr><td>F:maj G:maj </td><td> 99         </td></tr>\n",
       "\t<tr><td>D:maj C:maj </td><td> 93         </td></tr>\n",
       "</tbody>\n",
       "</table>\n"
      ],
      "text/latex": [
       "\\begin{tabular}{r|ll}\n",
       " bigram & n\\\\\n",
       "\\hline\n",
       "\t G:maj D:maj  & 241         \\\\\n",
       "\t C:maj F:maj  & 234         \\\\\n",
       "\t C:maj G:maj  & 217         \\\\\n",
       "\t B:maj E:maj  & 202         \\\\\n",
       "\t F:maj C:maj  & 195         \\\\\n",
       "\t A:maj E:maj  & 190         \\\\\n",
       "\t A:maj D:maj  & 189         \\\\\n",
       "\t D:maj G:maj  & 185         \\\\\n",
       "\t G:maj C:maj  & 185         \\\\\n",
       "\t D:maj A:maj  & 179         \\\\\n",
       "\t E:maj A:maj  & 175         \\\\\n",
       "\t F:maj Bb:maj & 143         \\\\\n",
       "\t Bb:maj F:maj & 134         \\\\\n",
       "\t E:maj B:maj  & 134         \\\\\n",
       "\t Bb:maj C:maj & 133         \\\\\n",
       "\t G:maj A:maj  & 133         \\\\\n",
       "\t A:maj B:maj  & 112         \\\\\n",
       "\t A:maj G:maj  & 105         \\\\\n",
       "\t F:maj G:maj  &  99         \\\\\n",
       "\t D:maj C:maj  &  93         \\\\\n",
       "\\end{tabular}\n"
      ],
      "text/markdown": [
       "\n",
       "| bigram | n |\n",
       "|---|---|\n",
       "| G:maj D:maj  | 241          |\n",
       "| C:maj F:maj  | 234          |\n",
       "| C:maj G:maj  | 217          |\n",
       "| B:maj E:maj  | 202          |\n",
       "| F:maj C:maj  | 195          |\n",
       "| A:maj E:maj  | 190          |\n",
       "| A:maj D:maj  | 189          |\n",
       "| D:maj G:maj  | 185          |\n",
       "| G:maj C:maj  | 185          |\n",
       "| D:maj A:maj  | 179          |\n",
       "| E:maj A:maj  | 175          |\n",
       "| F:maj Bb:maj | 143          |\n",
       "| Bb:maj F:maj | 134          |\n",
       "| E:maj B:maj  | 134          |\n",
       "| Bb:maj C:maj | 133          |\n",
       "| G:maj A:maj  | 133          |\n",
       "| A:maj B:maj  | 112          |\n",
       "| A:maj G:maj  | 105          |\n",
       "| F:maj G:maj  |  99          |\n",
       "| D:maj C:maj  |  93          |\n",
       "\n"
      ],
      "text/plain": [
       "   bigram       n  \n",
       "1  G:maj D:maj  241\n",
       "2  C:maj F:maj  234\n",
       "3  C:maj G:maj  217\n",
       "4  B:maj E:maj  202\n",
       "5  F:maj C:maj  195\n",
       "6  A:maj E:maj  190\n",
       "7  A:maj D:maj  189\n",
       "8  D:maj G:maj  185\n",
       "9  G:maj C:maj  185\n",
       "10 D:maj A:maj  179\n",
       "11 E:maj A:maj  175\n",
       "12 F:maj Bb:maj 143\n",
       "13 Bb:maj F:maj 134\n",
       "14 E:maj B:maj  134\n",
       "15 Bb:maj C:maj 133\n",
       "16 G:maj A:maj  133\n",
       "17 A:maj B:maj  112\n",
       "18 A:maj G:maj  105\n",
       "19 F:maj G:maj   99\n",
       "20 D:maj C:maj   93"
      ]
     },
     "metadata": {},
     "output_type": "display_data"
    }
   ],
   "source": [
    " #Wrangling and counting bigrams\n",
    "bb_bigram_count <- bb %>%\n",
    "    mutate(next_chord=lead(chord,1),next_title=lead(title,1),bigram=str_c(chord, next_chord, sep = \" \")) %>%\n",
    "    filter(title==next_title) %>%\n",
    "    count(bigram,sort=T)\n",
    " #Displaying the first 20 rows of bb_bigram_count\n",
    "head(bb_bigram_count,n=20)"
   ]
  },
  {
   "cell_type": "markdown",
   "metadata": {
    "dc": {
     "key": "33"
    },
    "deletable": false,
    "editable": false,
    "run_control": {
     "frozen": true
    },
    "tags": [
     "context"
    ]
   },
   "source": [
    "## 5. Visualizing the most common chord progressions\n",
    "<p>We can get a better sense of just how popular some of these chord progressions are if we plot them on a bar graph. Note how the most common chord change, G major to D major, occurs more than twice as often than even some of the other top 20 chord bigrams.</p>"
   ]
  },
  {
   "cell_type": "code",
   "execution_count": 29,
   "metadata": {
    "dc": {
     "key": "33"
    },
    "tags": [
     "sample_code"
    ]
   },
   "outputs": [
    {
     "data": {
      "image/png": "[encoded data removed]",
      "text/plain": [
       "plot without title"
      ]
     },
     "metadata": {},
     "output_type": "display_data"
    }
   ],
   "source": [
    "# Creating a column plot from `bb_bigram_count`\n",
    "bb_bigram_count %>%\n",
    "  slice(1:20) %>%\n",
    "  mutate(share =n/sum(n),\n",
    "         bigram = reorder(bigram,share)) %>% ggplot(aes(x=bigram,y=share))+\n",
    "  geom_bar(stat=\"identity\") +\n",
    "  coord_flip() +\n",
    "  xlab(\"bigram\") +\n",
    "  ylab(\"share\")  "
   ]
  },
  {
   "cell_type": "markdown",
   "metadata": {
    "dc": {
     "key": "40"
    },
    "deletable": false,
    "editable": false,
    "run_control": {
     "frozen": true
    },
    "tags": [
     "context"
    ]
   },
   "source": [
    "## 6. Finding the most common artists\n",
    "<p>As noted above, the most common chords (and chord bigrams) are those that are easy to play on both the guitar and the piano. If the degree to which these chords are idiomatic on guitar or piano (or both) <em>determine</em> how common they are, we would expect to find the more idiomatic guitar chords (C, G, D, A, and E major) to be more common in guitar-driven songs, but we would expect the more idiomatic piano chords (C, F, G, D, and B-flat major) to be more common in piano-driven songs. (Note that there is some overlap between these two instruments.)</p>\n",
    "<p>The McGill Billboard dataset does not come with songs tagged as \"piano-driven\" or \"guitar-driven,\" so to test this hypothesis, we'll have to do that manually. Rather than make this determination for every song in the corpus, let's focus on just a few to see if the hypothesis has some validity. If so, then we can think about tagging more artists in the corpus and testing the hypothesis more exhaustively.</p>\n",
    "<p>Here are the 30 artists with the most songs in the corpus. From this list, we'll extract a few artists who are obviously heavy on guitar or piano to compare.</p>"
   ]
  },
  {
   "cell_type": "code",
   "execution_count": 30,
   "metadata": {
    "dc": {
     "key": "40"
    },
    "tags": [
     "sample_code"
    ]
   },
   "outputs": [
    {
     "data": {
      "text/html": [
       "<table>\n",
       "<thead><tr><th scope=col>artist</th><th scope=col>n</th></tr></thead>\n",
       "<tbody>\n",
       "\t<tr><td>Elvis Presley     </td><td>13                </td></tr>\n",
       "\t<tr><td>Brenda Lee        </td><td> 9                </td></tr>\n",
       "\t<tr><td>Dion              </td><td> 8                </td></tr>\n",
       "\t<tr><td>Bob Seger         </td><td> 7                </td></tr>\n",
       "\t<tr><td>James Brown       </td><td> 7                </td></tr>\n",
       "\t<tr><td>Kenny Rogers      </td><td> 7                </td></tr>\n",
       "\t<tr><td>The Beatles       </td><td> 7                </td></tr>\n",
       "\t<tr><td>Chicago           </td><td> 6                </td></tr>\n",
       "\t<tr><td>Dr. Hook          </td><td> 6                </td></tr>\n",
       "\t<tr><td>Eric Clapton      </td><td> 6                </td></tr>\n",
       "\t<tr><td>John Denver       </td><td> 6                </td></tr>\n",
       "\t<tr><td>Johnny Tillotson  </td><td> 6                </td></tr>\n",
       "\t<tr><td>The Beach Boys    </td><td> 6                </td></tr>\n",
       "\t<tr><td>Abba              </td><td> 5                </td></tr>\n",
       "\t<tr><td>Billy Idol        </td><td> 5                </td></tr>\n",
       "\t<tr><td>Cliff Richard     </td><td> 5                </td></tr>\n",
       "\t<tr><td>Glen Campbell     </td><td> 5                </td></tr>\n",
       "\t<tr><td>The Rolling Stones</td><td> 5                </td></tr>\n",
       "\t<tr><td>Billy Joel        </td><td> 4                </td></tr>\n",
       "\t<tr><td>Cheap Trick       </td><td> 4                </td></tr>\n",
       "\t<tr><td>Cyndi Lauper      </td><td> 4                </td></tr>\n",
       "\t<tr><td>David Bowie       </td><td> 4                </td></tr>\n",
       "\t<tr><td>Elton John        </td><td> 4                </td></tr>\n",
       "\t<tr><td>Genesis           </td><td> 4                </td></tr>\n",
       "\t<tr><td>Heart             </td><td> 4                </td></tr>\n",
       "\t<tr><td>Jackson Browne    </td><td> 4                </td></tr>\n",
       "\t<tr><td>Little River Band </td><td> 4                </td></tr>\n",
       "\t<tr><td>Michael Jackson   </td><td> 4                </td></tr>\n",
       "\t<tr><td>Pat Benatar       </td><td> 4                </td></tr>\n",
       "\t<tr><td>Stevie Wonder     </td><td> 4                </td></tr>\n",
       "</tbody>\n",
       "</table>\n"
      ],
      "text/latex": [
       "\\begin{tabular}{r|ll}\n",
       " artist & n\\\\\n",
       "\\hline\n",
       "\t Elvis Presley      & 13                \\\\\n",
       "\t Brenda Lee         &  9                \\\\\n",
       "\t Dion               &  8                \\\\\n",
       "\t Bob Seger          &  7                \\\\\n",
       "\t James Brown        &  7                \\\\\n",
       "\t Kenny Rogers       &  7                \\\\\n",
       "\t The Beatles        &  7                \\\\\n",
       "\t Chicago            &  6                \\\\\n",
       "\t Dr. Hook           &  6                \\\\\n",
       "\t Eric Clapton       &  6                \\\\\n",
       "\t John Denver        &  6                \\\\\n",
       "\t Johnny Tillotson   &  6                \\\\\n",
       "\t The Beach Boys     &  6                \\\\\n",
       "\t Abba               &  5                \\\\\n",
       "\t Billy Idol         &  5                \\\\\n",
       "\t Cliff Richard      &  5                \\\\\n",
       "\t Glen Campbell      &  5                \\\\\n",
       "\t The Rolling Stones &  5                \\\\\n",
       "\t Billy Joel         &  4                \\\\\n",
       "\t Cheap Trick        &  4                \\\\\n",
       "\t Cyndi Lauper       &  4                \\\\\n",
       "\t David Bowie        &  4                \\\\\n",
       "\t Elton John         &  4                \\\\\n",
       "\t Genesis            &  4                \\\\\n",
       "\t Heart              &  4                \\\\\n",
       "\t Jackson Browne     &  4                \\\\\n",
       "\t Little River Band  &  4                \\\\\n",
       "\t Michael Jackson    &  4                \\\\\n",
       "\t Pat Benatar        &  4                \\\\\n",
       "\t Stevie Wonder      &  4                \\\\\n",
       "\\end{tabular}\n"
      ],
      "text/markdown": [
       "\n",
       "| artist | n |\n",
       "|---|---|\n",
       "| Elvis Presley      | 13                 |\n",
       "| Brenda Lee         |  9                 |\n",
       "| Dion               |  8                 |\n",
       "| Bob Seger          |  7                 |\n",
       "| James Brown        |  7                 |\n",
       "| Kenny Rogers       |  7                 |\n",
       "| The Beatles        |  7                 |\n",
       "| Chicago            |  6                 |\n",
       "| Dr. Hook           |  6                 |\n",
       "| Eric Clapton       |  6                 |\n",
       "| John Denver        |  6                 |\n",
       "| Johnny Tillotson   |  6                 |\n",
       "| The Beach Boys     |  6                 |\n",
       "| Abba               |  5                 |\n",
       "| Billy Idol         |  5                 |\n",
       "| Cliff Richard      |  5                 |\n",
       "| Glen Campbell      |  5                 |\n",
       "| The Rolling Stones |  5                 |\n",
       "| Billy Joel         |  4                 |\n",
       "| Cheap Trick        |  4                 |\n",
       "| Cyndi Lauper       |  4                 |\n",
       "| David Bowie        |  4                 |\n",
       "| Elton John         |  4                 |\n",
       "| Genesis            |  4                 |\n",
       "| Heart              |  4                 |\n",
       "| Jackson Browne     |  4                 |\n",
       "| Little River Band  |  4                 |\n",
       "| Michael Jackson    |  4                 |\n",
       "| Pat Benatar        |  4                 |\n",
       "| Stevie Wonder      |  4                 |\n",
       "\n"
      ],
      "text/plain": [
       "   artist             n \n",
       "1  Elvis Presley      13\n",
       "2  Brenda Lee          9\n",
       "3  Dion                8\n",
       "4  Bob Seger           7\n",
       "5  James Brown         7\n",
       "6  Kenny Rogers        7\n",
       "7  The Beatles         7\n",
       "8  Chicago             6\n",
       "9  Dr. Hook            6\n",
       "10 Eric Clapton        6\n",
       "11 John Denver         6\n",
       "12 Johnny Tillotson    6\n",
       "13 The Beach Boys      6\n",
       "14 Abba                5\n",
       "15 Billy Idol          5\n",
       "16 Cliff Richard       5\n",
       "17 Glen Campbell       5\n",
       "18 The Rolling Stones  5\n",
       "19 Billy Joel          4\n",
       "20 Cheap Trick         4\n",
       "21 Cyndi Lauper        4\n",
       "22 David Bowie         4\n",
       "23 Elton John          4\n",
       "24 Genesis             4\n",
       "25 Heart               4\n",
       "26 Jackson Browne      4\n",
       "27 Little River Band   4\n",
       "28 Michael Jackson     4\n",
       "29 Pat Benatar         4\n",
       "30 Stevie Wonder       4"
      ]
     },
     "metadata": {},
     "output_type": "display_data"
    }
   ],
   "source": [
    "# Finding and displaying the 30 artists with the most songs in the corpus\n",
    "bb_30_artists <- bb %>%\n",
    "    select(artist,title) %>% unique() %>% count(artist,sort=T)\n",
    "\n",
    "\n",
    "bb_30_artists %>%\n",
    " slice(1:30)"
   ]
  },
  {
   "cell_type": "markdown",
   "metadata": {
    "dc": {
     "key": "47"
    },
    "deletable": false,
    "editable": false,
    "run_control": {
     "frozen": true
    },
    "tags": [
     "context"
    ]
   },
   "source": [
    "## 7. Tagging the corpus\n",
    "<p>There are relatively few artists in this list whose music is demonstrably \"piano-driven,\" but we can identify a few that generally emphasize keyboards over guitar: Abba, Billy Joel, Elton John, and Stevie Wonder — totaling 17 songs in the corpus. There are many guitar-centered artists in this list, so for our test, we'll focus on three well known, guitar-heavy artists with a similar number of songs in the corpus: The Rolling Stones, The Beatles, and Eric Clapton (18 songs).</p>\n",
    "<p>Once we've subset the corpus to only songs by these seven artists and applied the \"piano\" and \"guitar\" tags, we can compare the chord content of piano-driven and guitar-driven songs.</p>"
   ]
  },
  {
   "cell_type": "code",
   "execution_count": 31,
   "metadata": {
    "dc": {
     "key": "47"
    },
    "tags": [
     "sample_code"
    ]
   },
   "outputs": [
    {
     "name": "stderr",
     "output_type": "stream",
     "text": [
      "Joining, by = \"artist\"\n"
     ]
    },
    {
     "data": {
      "text/html": [
       "<table>\n",
       "<thead><tr><th scope=col>year</th><th scope=col>chord</th><th scope=col>root_integer</th><th scope=col>root_roman</th><th scope=col>quality</th><th scope=col>title_compressed</th><th scope=col>artist_compressed</th><th scope=col>title</th><th scope=col>artist</th><th scope=col>instrument</th></tr></thead>\n",
       "<tbody>\n",
       "\t<tr><td>1984           </td><td>C:maj          </td><td>0              </td><td>I              </td><td>maj            </td><td>aninnocentman  </td><td>billyjoel      </td><td>An Innocent Man</td><td>Billy Joel     </td><td>piano          </td></tr>\n",
       "\t<tr><td>1984           </td><td>D:min          </td><td>2              </td><td>II             </td><td>min            </td><td>aninnocentman  </td><td>billyjoel      </td><td>An Innocent Man</td><td>Billy Joel     </td><td>piano          </td></tr>\n",
       "\t<tr><td>1984           </td><td>F:maj          </td><td>5              </td><td>IV             </td><td>maj            </td><td>aninnocentman  </td><td>billyjoel      </td><td>An Innocent Man</td><td>Billy Joel     </td><td>piano          </td></tr>\n",
       "\t<tr><td>1984           </td><td>G:maj          </td><td>7              </td><td>V              </td><td>maj            </td><td>aninnocentman  </td><td>billyjoel      </td><td>An Innocent Man</td><td>Billy Joel     </td><td>piano          </td></tr>\n",
       "\t<tr><td>1984           </td><td>C:maj          </td><td>0              </td><td>I              </td><td>maj            </td><td>aninnocentman  </td><td>billyjoel      </td><td>An Innocent Man</td><td>Billy Joel     </td><td>piano          </td></tr>\n",
       "\t<tr><td>1984           </td><td>D:min          </td><td>2              </td><td>II             </td><td>min            </td><td>aninnocentman  </td><td>billyjoel      </td><td>An Innocent Man</td><td>Billy Joel     </td><td>piano          </td></tr>\n",
       "\t<tr><td>1984           </td><td>F:maj          </td><td>5              </td><td>IV             </td><td>maj            </td><td>aninnocentman  </td><td>billyjoel      </td><td>An Innocent Man</td><td>Billy Joel     </td><td>piano          </td></tr>\n",
       "\t<tr><td>1984           </td><td>G:maj          </td><td>7              </td><td>V              </td><td>maj            </td><td>aninnocentman  </td><td>billyjoel      </td><td>An Innocent Man</td><td>Billy Joel     </td><td>piano          </td></tr>\n",
       "\t<tr><td>1984           </td><td>C:maj          </td><td>0              </td><td>I              </td><td>maj            </td><td>aninnocentman  </td><td>billyjoel      </td><td>An Innocent Man</td><td>Billy Joel     </td><td>piano          </td></tr>\n",
       "\t<tr><td>1984           </td><td>G:min7         </td><td>7              </td><td>V              </td><td>min7           </td><td>aninnocentman  </td><td>billyjoel      </td><td>An Innocent Man</td><td>Billy Joel     </td><td>piano          </td></tr>\n",
       "\t<tr><td>1984           </td><td>C:maj/5        </td><td>0              </td><td>I              </td><td>maj/5          </td><td>aninnocentman  </td><td>billyjoel      </td><td>An Innocent Man</td><td>Billy Joel     </td><td>piano          </td></tr>\n",
       "\t<tr><td>1984           </td><td>Bb:maj/5       </td><td>10             </td><td>bVII           </td><td>maj/5          </td><td>aninnocentman  </td><td>billyjoel      </td><td>An Innocent Man</td><td>Billy Joel     </td><td>piano          </td></tr>\n",
       "\t<tr><td>1984           </td><td>F:maj          </td><td>5              </td><td>IV             </td><td>maj            </td><td>aninnocentman  </td><td>billyjoel      </td><td>An Innocent Man</td><td>Billy Joel     </td><td>piano          </td></tr>\n",
       "\t<tr><td>1984           </td><td>G:maj          </td><td>7              </td><td>V              </td><td>maj            </td><td>aninnocentman  </td><td>billyjoel      </td><td>An Innocent Man</td><td>Billy Joel     </td><td>piano          </td></tr>\n",
       "\t<tr><td>1984           </td><td>C:maj          </td><td>0              </td><td>I              </td><td>maj            </td><td>aninnocentman  </td><td>billyjoel      </td><td>An Innocent Man</td><td>Billy Joel     </td><td>piano          </td></tr>\n",
       "\t<tr><td>1984           </td><td>D:min          </td><td>2              </td><td>II             </td><td>min            </td><td>aninnocentman  </td><td>billyjoel      </td><td>An Innocent Man</td><td>Billy Joel     </td><td>piano          </td></tr>\n",
       "\t<tr><td>1984           </td><td>F:maj          </td><td>5              </td><td>IV             </td><td>maj            </td><td>aninnocentman  </td><td>billyjoel      </td><td>An Innocent Man</td><td>Billy Joel     </td><td>piano          </td></tr>\n",
       "\t<tr><td>1984           </td><td>G:maj          </td><td>7              </td><td>V              </td><td>maj            </td><td>aninnocentman  </td><td>billyjoel      </td><td>An Innocent Man</td><td>Billy Joel     </td><td>piano          </td></tr>\n",
       "\t<tr><td>1984           </td><td>C:maj          </td><td>0              </td><td>I              </td><td>maj            </td><td>aninnocentman  </td><td>billyjoel      </td><td>An Innocent Man</td><td>Billy Joel     </td><td>piano          </td></tr>\n",
       "\t<tr><td>1984           </td><td>D:min          </td><td>2              </td><td>II             </td><td>min            </td><td>aninnocentman  </td><td>billyjoel      </td><td>An Innocent Man</td><td>Billy Joel     </td><td>piano          </td></tr>\n",
       "\t<tr><td>1984           </td><td>F:maj          </td><td>5              </td><td>IV             </td><td>maj            </td><td>aninnocentman  </td><td>billyjoel      </td><td>An Innocent Man</td><td>Billy Joel     </td><td>piano          </td></tr>\n",
       "\t<tr><td>1984           </td><td>G:maj          </td><td>7              </td><td>V              </td><td>maj            </td><td>aninnocentman  </td><td>billyjoel      </td><td>An Innocent Man</td><td>Billy Joel     </td><td>piano          </td></tr>\n",
       "\t<tr><td>1972           </td><td>A:maj          </td><td>7              </td><td>V              </td><td>maj            </td><td>letitrain      </td><td>ericclapton    </td><td>Let It Rain    </td><td>Eric Clapton   </td><td>guitar         </td></tr>\n",
       "\t<tr><td>1972           </td><td>G:maj/9        </td><td>5              </td><td>IV             </td><td>maj/9          </td><td>letitrain      </td><td>ericclapton    </td><td>Let It Rain    </td><td>Eric Clapton   </td><td>guitar         </td></tr>\n",
       "\t<tr><td>1972           </td><td>A:maj          </td><td>7              </td><td>V              </td><td>maj            </td><td>letitrain      </td><td>ericclapton    </td><td>Let It Rain    </td><td>Eric Clapton   </td><td>guitar         </td></tr>\n",
       "\t<tr><td>1972           </td><td>G:maj/9        </td><td>5              </td><td>IV             </td><td>maj/9          </td><td>letitrain      </td><td>ericclapton    </td><td>Let It Rain    </td><td>Eric Clapton   </td><td>guitar         </td></tr>\n",
       "\t<tr><td>1972           </td><td>A:maj          </td><td>7              </td><td>V              </td><td>maj            </td><td>letitrain      </td><td>ericclapton    </td><td>Let It Rain    </td><td>Eric Clapton   </td><td>guitar         </td></tr>\n",
       "\t<tr><td>1972           </td><td>D:maj          </td><td>0              </td><td>I              </td><td>maj            </td><td>letitrain      </td><td>ericclapton    </td><td>Let It Rain    </td><td>Eric Clapton   </td><td>guitar         </td></tr>\n",
       "\t<tr><td>1972           </td><td>A:min          </td><td>7              </td><td>V              </td><td>min            </td><td>letitrain      </td><td>ericclapton    </td><td>Let It Rain    </td><td>Eric Clapton   </td><td>guitar         </td></tr>\n",
       "\t<tr><td>1972           </td><td>C:maj          </td><td>10             </td><td>bVII           </td><td>maj            </td><td>letitrain      </td><td>ericclapton    </td><td>Let It Rain    </td><td>Eric Clapton   </td><td>guitar         </td></tr>\n",
       "\t<tr><td>...</td><td>...</td><td>...</td><td>...</td><td>...</td><td>...</td><td>...</td><td>...</td><td>...</td><td>...</td></tr>\n",
       "\t<tr><td>1965              </td><td>F#:min            </td><td>9                 </td><td>VI                </td><td>min               </td><td>help!             </td><td>thebeatles        </td><td>Help!             </td><td>The Beatles       </td><td>guitar            </td></tr>\n",
       "\t<tr><td>1965              </td><td>D:maj             </td><td>5                 </td><td>IV                </td><td>maj               </td><td>help!             </td><td>thebeatles        </td><td>Help!             </td><td>The Beatles       </td><td>guitar            </td></tr>\n",
       "\t<tr><td>1965              </td><td>G:maj             </td><td>10                </td><td>bVII              </td><td>maj               </td><td>help!             </td><td>thebeatles        </td><td>Help!             </td><td>The Beatles       </td><td>guitar            </td></tr>\n",
       "\t<tr><td>1965              </td><td>A:maj             </td><td>0                 </td><td>I                 </td><td>maj               </td><td>help!             </td><td>thebeatles        </td><td>Help!             </td><td>The Beatles       </td><td>guitar            </td></tr>\n",
       "\t<tr><td>1965              </td><td>C#:min            </td><td>4                 </td><td>III               </td><td>min               </td><td>help!             </td><td>thebeatles        </td><td>Help!             </td><td>The Beatles       </td><td>guitar            </td></tr>\n",
       "\t<tr><td>1965              </td><td>F#:maj            </td><td>9                 </td><td>VI                </td><td>maj               </td><td>help!             </td><td>thebeatles        </td><td>Help!             </td><td>The Beatles       </td><td>guitar            </td></tr>\n",
       "\t<tr><td>1965              </td><td>D:maj             </td><td>5                 </td><td>IV                </td><td>maj               </td><td>help!             </td><td>thebeatles        </td><td>Help!             </td><td>The Beatles       </td><td>guitar            </td></tr>\n",
       "\t<tr><td>1965              </td><td>G:maj             </td><td>10                </td><td>bVII              </td><td>maj               </td><td>help!             </td><td>thebeatles        </td><td>Help!             </td><td>The Beatles       </td><td>guitar            </td></tr>\n",
       "\t<tr><td>1965              </td><td>A:maj             </td><td>0                 </td><td>I                 </td><td>maj               </td><td>help!             </td><td>thebeatles        </td><td>Help!             </td><td>The Beatles       </td><td>guitar            </td></tr>\n",
       "\t<tr><td>1965              </td><td>B:min             </td><td>2                 </td><td>II                </td><td>min               </td><td>help!             </td><td>thebeatles        </td><td>Help!             </td><td>The Beatles       </td><td>guitar            </td></tr>\n",
       "\t<tr><td>1965              </td><td>B:min/b7          </td><td>2                 </td><td>II                </td><td>min/b7            </td><td>help!             </td><td>thebeatles        </td><td>Help!             </td><td>The Beatles       </td><td>guitar            </td></tr>\n",
       "\t<tr><td>1969              </td><td>N                 </td><td>NonHarmonic       </td><td>NonHarmonic       </td><td>NonHarmonic       </td><td>honkytonkwomen    </td><td>therollingstones  </td><td>Honky Tonk Women  </td><td>The Rolling Stones</td><td>guitar            </td></tr>\n",
       "\t<tr><td>1969              </td><td>G:maj             </td><td>0                 </td><td>I                 </td><td>maj               </td><td>honkytonkwomen    </td><td>therollingstones  </td><td>Honky Tonk Women  </td><td>The Rolling Stones</td><td>guitar            </td></tr>\n",
       "\t<tr><td>1969              </td><td>C:maj             </td><td>5                 </td><td>IV                </td><td>maj               </td><td>honkytonkwomen    </td><td>therollingstones  </td><td>Honky Tonk Women  </td><td>The Rolling Stones</td><td>guitar            </td></tr>\n",
       "\t<tr><td>1969              </td><td>C:sus4            </td><td>5                 </td><td>IV                </td><td>sus4              </td><td>honkytonkwomen    </td><td>therollingstones  </td><td>Honky Tonk Women  </td><td>The Rolling Stones</td><td>guitar            </td></tr>\n",
       "\t<tr><td>1969              </td><td>C:maj             </td><td>5                 </td><td>IV                </td><td>maj               </td><td>honkytonkwomen    </td><td>therollingstones  </td><td>Honky Tonk Women  </td><td>The Rolling Stones</td><td>guitar            </td></tr>\n",
       "\t<tr><td>1969              </td><td>G:maj             </td><td>0                 </td><td>I                 </td><td>maj               </td><td>honkytonkwomen    </td><td>therollingstones  </td><td>Honky Tonk Women  </td><td>The Rolling Stones</td><td>guitar            </td></tr>\n",
       "\t<tr><td>1969              </td><td>A:maj             </td><td>2                 </td><td>II                </td><td>maj               </td><td>honkytonkwomen    </td><td>therollingstones  </td><td>Honky Tonk Women  </td><td>The Rolling Stones</td><td>guitar            </td></tr>\n",
       "\t<tr><td>1969              </td><td>D:maj             </td><td>7                 </td><td>V                 </td><td>maj               </td><td>honkytonkwomen    </td><td>therollingstones  </td><td>Honky Tonk Women  </td><td>The Rolling Stones</td><td>guitar            </td></tr>\n",
       "\t<tr><td>1969              </td><td>D:sus4            </td><td>7                 </td><td>V                 </td><td>sus4              </td><td>honkytonkwomen    </td><td>therollingstones  </td><td>Honky Tonk Women  </td><td>The Rolling Stones</td><td>guitar            </td></tr>\n",
       "\t<tr><td>1969              </td><td>D:maj             </td><td>7                 </td><td>V                 </td><td>maj               </td><td>honkytonkwomen    </td><td>therollingstones  </td><td>Honky Tonk Women  </td><td>The Rolling Stones</td><td>guitar            </td></tr>\n",
       "\t<tr><td>1969              </td><td>G:maj             </td><td>0                 </td><td>I                 </td><td>maj               </td><td>honkytonkwomen    </td><td>therollingstones  </td><td>Honky Tonk Women  </td><td>The Rolling Stones</td><td>guitar            </td></tr>\n",
       "\t<tr><td>1969              </td><td>C:maj             </td><td>5                 </td><td>IV                </td><td>maj               </td><td>honkytonkwomen    </td><td>therollingstones  </td><td>Honky Tonk Women  </td><td>The Rolling Stones</td><td>guitar            </td></tr>\n",
       "\t<tr><td>1969              </td><td>C:sus4            </td><td>5                 </td><td>IV                </td><td>sus4              </td><td>honkytonkwomen    </td><td>therollingstones  </td><td>Honky Tonk Women  </td><td>The Rolling Stones</td><td>guitar            </td></tr>\n",
       "\t<tr><td>1969              </td><td>C:maj             </td><td>5                 </td><td>IV                </td><td>maj               </td><td>honkytonkwomen    </td><td>therollingstones  </td><td>Honky Tonk Women  </td><td>The Rolling Stones</td><td>guitar            </td></tr>\n",
       "\t<tr><td>1969              </td><td>G:maj             </td><td>0                 </td><td>I                 </td><td>maj               </td><td>honkytonkwomen    </td><td>therollingstones  </td><td>Honky Tonk Women  </td><td>The Rolling Stones</td><td>guitar            </td></tr>\n",
       "\t<tr><td>1969              </td><td>D:maj             </td><td>7                 </td><td>V                 </td><td>maj               </td><td>honkytonkwomen    </td><td>therollingstones  </td><td>Honky Tonk Women  </td><td>The Rolling Stones</td><td>guitar            </td></tr>\n",
       "\t<tr><td>1969              </td><td>G:maj             </td><td>0                 </td><td>I                 </td><td>maj               </td><td>honkytonkwomen    </td><td>therollingstones  </td><td>Honky Tonk Women  </td><td>The Rolling Stones</td><td>guitar            </td></tr>\n",
       "\t<tr><td>1969              </td><td>D:maj             </td><td>7                 </td><td>V                 </td><td>maj               </td><td>honkytonkwomen    </td><td>therollingstones  </td><td>Honky Tonk Women  </td><td>The Rolling Stones</td><td>guitar            </td></tr>\n",
       "\t<tr><td>1969              </td><td>G:maj             </td><td>0                 </td><td>I                 </td><td>maj               </td><td>honkytonkwomen    </td><td>therollingstones  </td><td>Honky Tonk Women  </td><td>The Rolling Stones</td><td>guitar            </td></tr>\n",
       "</tbody>\n",
       "</table>\n"
      ],
      "text/latex": [
       "\\begin{tabular}{r|llllllllll}\n",
       " year & chord & root\\_integer & root\\_roman & quality & title\\_compressed & artist\\_compressed & title & artist & instrument\\\\\n",
       "\\hline\n",
       "\t 1984            & C:maj           & 0               & I               & maj             & aninnocentman   & billyjoel       & An Innocent Man & Billy Joel      & piano          \\\\\n",
       "\t 1984            & D:min           & 2               & II              & min             & aninnocentman   & billyjoel       & An Innocent Man & Billy Joel      & piano          \\\\\n",
       "\t 1984            & F:maj           & 5               & IV              & maj             & aninnocentman   & billyjoel       & An Innocent Man & Billy Joel      & piano          \\\\\n",
       "\t 1984            & G:maj           & 7               & V               & maj             & aninnocentman   & billyjoel       & An Innocent Man & Billy Joel      & piano          \\\\\n",
       "\t 1984            & C:maj           & 0               & I               & maj             & aninnocentman   & billyjoel       & An Innocent Man & Billy Joel      & piano          \\\\\n",
       "\t 1984            & D:min           & 2               & II              & min             & aninnocentman   & billyjoel       & An Innocent Man & Billy Joel      & piano          \\\\\n",
       "\t 1984            & F:maj           & 5               & IV              & maj             & aninnocentman   & billyjoel       & An Innocent Man & Billy Joel      & piano          \\\\\n",
       "\t 1984            & G:maj           & 7               & V               & maj             & aninnocentman   & billyjoel       & An Innocent Man & Billy Joel      & piano          \\\\\n",
       "\t 1984            & C:maj           & 0               & I               & maj             & aninnocentman   & billyjoel       & An Innocent Man & Billy Joel      & piano          \\\\\n",
       "\t 1984            & G:min7          & 7               & V               & min7            & aninnocentman   & billyjoel       & An Innocent Man & Billy Joel      & piano          \\\\\n",
       "\t 1984            & C:maj/5         & 0               & I               & maj/5           & aninnocentman   & billyjoel       & An Innocent Man & Billy Joel      & piano          \\\\\n",
       "\t 1984            & Bb:maj/5        & 10              & bVII            & maj/5           & aninnocentman   & billyjoel       & An Innocent Man & Billy Joel      & piano          \\\\\n",
       "\t 1984            & F:maj           & 5               & IV              & maj             & aninnocentman   & billyjoel       & An Innocent Man & Billy Joel      & piano          \\\\\n",
       "\t 1984            & G:maj           & 7               & V               & maj             & aninnocentman   & billyjoel       & An Innocent Man & Billy Joel      & piano          \\\\\n",
       "\t 1984            & C:maj           & 0               & I               & maj             & aninnocentman   & billyjoel       & An Innocent Man & Billy Joel      & piano          \\\\\n",
       "\t 1984            & D:min           & 2               & II              & min             & aninnocentman   & billyjoel       & An Innocent Man & Billy Joel      & piano          \\\\\n",
       "\t 1984            & F:maj           & 5               & IV              & maj             & aninnocentman   & billyjoel       & An Innocent Man & Billy Joel      & piano          \\\\\n",
       "\t 1984            & G:maj           & 7               & V               & maj             & aninnocentman   & billyjoel       & An Innocent Man & Billy Joel      & piano          \\\\\n",
       "\t 1984            & C:maj           & 0               & I               & maj             & aninnocentman   & billyjoel       & An Innocent Man & Billy Joel      & piano          \\\\\n",
       "\t 1984            & D:min           & 2               & II              & min             & aninnocentman   & billyjoel       & An Innocent Man & Billy Joel      & piano          \\\\\n",
       "\t 1984            & F:maj           & 5               & IV              & maj             & aninnocentman   & billyjoel       & An Innocent Man & Billy Joel      & piano          \\\\\n",
       "\t 1984            & G:maj           & 7               & V               & maj             & aninnocentman   & billyjoel       & An Innocent Man & Billy Joel      & piano          \\\\\n",
       "\t 1972            & A:maj           & 7               & V               & maj             & letitrain       & ericclapton     & Let It Rain     & Eric Clapton    & guitar         \\\\\n",
       "\t 1972            & G:maj/9         & 5               & IV              & maj/9           & letitrain       & ericclapton     & Let It Rain     & Eric Clapton    & guitar         \\\\\n",
       "\t 1972            & A:maj           & 7               & V               & maj             & letitrain       & ericclapton     & Let It Rain     & Eric Clapton    & guitar         \\\\\n",
       "\t 1972            & G:maj/9         & 5               & IV              & maj/9           & letitrain       & ericclapton     & Let It Rain     & Eric Clapton    & guitar         \\\\\n",
       "\t 1972            & A:maj           & 7               & V               & maj             & letitrain       & ericclapton     & Let It Rain     & Eric Clapton    & guitar         \\\\\n",
       "\t 1972            & D:maj           & 0               & I               & maj             & letitrain       & ericclapton     & Let It Rain     & Eric Clapton    & guitar         \\\\\n",
       "\t 1972            & A:min           & 7               & V               & min             & letitrain       & ericclapton     & Let It Rain     & Eric Clapton    & guitar         \\\\\n",
       "\t 1972            & C:maj           & 10              & bVII            & maj             & letitrain       & ericclapton     & Let It Rain     & Eric Clapton    & guitar         \\\\\n",
       "\t ... & ... & ... & ... & ... & ... & ... & ... & ... & ...\\\\\n",
       "\t 1965               & F\\#:min           & 9                  & VI                 & min                & help!              & thebeatles         & Help!              & The Beatles        & guitar            \\\\\n",
       "\t 1965               & D:maj              & 5                  & IV                 & maj                & help!              & thebeatles         & Help!              & The Beatles        & guitar            \\\\\n",
       "\t 1965               & G:maj              & 10                 & bVII               & maj                & help!              & thebeatles         & Help!              & The Beatles        & guitar            \\\\\n",
       "\t 1965               & A:maj              & 0                  & I                  & maj                & help!              & thebeatles         & Help!              & The Beatles        & guitar            \\\\\n",
       "\t 1965               & C\\#:min           & 4                  & III                & min                & help!              & thebeatles         & Help!              & The Beatles        & guitar            \\\\\n",
       "\t 1965               & F\\#:maj           & 9                  & VI                 & maj                & help!              & thebeatles         & Help!              & The Beatles        & guitar            \\\\\n",
       "\t 1965               & D:maj              & 5                  & IV                 & maj                & help!              & thebeatles         & Help!              & The Beatles        & guitar            \\\\\n",
       "\t 1965               & G:maj              & 10                 & bVII               & maj                & help!              & thebeatles         & Help!              & The Beatles        & guitar            \\\\\n",
       "\t 1965               & A:maj              & 0                  & I                  & maj                & help!              & thebeatles         & Help!              & The Beatles        & guitar            \\\\\n",
       "\t 1965               & B:min              & 2                  & II                 & min                & help!              & thebeatles         & Help!              & The Beatles        & guitar            \\\\\n",
       "\t 1965               & B:min/b7           & 2                  & II                 & min/b7             & help!              & thebeatles         & Help!              & The Beatles        & guitar            \\\\\n",
       "\t 1969               & N                  & NonHarmonic        & NonHarmonic        & NonHarmonic        & honkytonkwomen     & therollingstones   & Honky Tonk Women   & The Rolling Stones & guitar            \\\\\n",
       "\t 1969               & G:maj              & 0                  & I                  & maj                & honkytonkwomen     & therollingstones   & Honky Tonk Women   & The Rolling Stones & guitar            \\\\\n",
       "\t 1969               & C:maj              & 5                  & IV                 & maj                & honkytonkwomen     & therollingstones   & Honky Tonk Women   & The Rolling Stones & guitar            \\\\\n",
       "\t 1969               & C:sus4             & 5                  & IV                 & sus4               & honkytonkwomen     & therollingstones   & Honky Tonk Women   & The Rolling Stones & guitar            \\\\\n",
       "\t 1969               & C:maj              & 5                  & IV                 & maj                & honkytonkwomen     & therollingstones   & Honky Tonk Women   & The Rolling Stones & guitar            \\\\\n",
       "\t 1969               & G:maj              & 0                  & I                  & maj                & honkytonkwomen     & therollingstones   & Honky Tonk Women   & The Rolling Stones & guitar            \\\\\n",
       "\t 1969               & A:maj              & 2                  & II                 & maj                & honkytonkwomen     & therollingstones   & Honky Tonk Women   & The Rolling Stones & guitar            \\\\\n",
       "\t 1969               & D:maj              & 7                  & V                  & maj                & honkytonkwomen     & therollingstones   & Honky Tonk Women   & The Rolling Stones & guitar            \\\\\n",
       "\t 1969               & D:sus4             & 7                  & V                  & sus4               & honkytonkwomen     & therollingstones   & Honky Tonk Women   & The Rolling Stones & guitar            \\\\\n",
       "\t 1969               & D:maj              & 7                  & V                  & maj                & honkytonkwomen     & therollingstones   & Honky Tonk Women   & The Rolling Stones & guitar            \\\\\n",
       "\t 1969               & G:maj              & 0                  & I                  & maj                & honkytonkwomen     & therollingstones   & Honky Tonk Women   & The Rolling Stones & guitar            \\\\\n",
       "\t 1969               & C:maj              & 5                  & IV                 & maj                & honkytonkwomen     & therollingstones   & Honky Tonk Women   & The Rolling Stones & guitar            \\\\\n",
       "\t 1969               & C:sus4             & 5                  & IV                 & sus4               & honkytonkwomen     & therollingstones   & Honky Tonk Women   & The Rolling Stones & guitar            \\\\\n",
       "\t 1969               & C:maj              & 5                  & IV                 & maj                & honkytonkwomen     & therollingstones   & Honky Tonk Women   & The Rolling Stones & guitar            \\\\\n",
       "\t 1969               & G:maj              & 0                  & I                  & maj                & honkytonkwomen     & therollingstones   & Honky Tonk Women   & The Rolling Stones & guitar            \\\\\n",
       "\t 1969               & D:maj              & 7                  & V                  & maj                & honkytonkwomen     & therollingstones   & Honky Tonk Women   & The Rolling Stones & guitar            \\\\\n",
       "\t 1969               & G:maj              & 0                  & I                  & maj                & honkytonkwomen     & therollingstones   & Honky Tonk Women   & The Rolling Stones & guitar            \\\\\n",
       "\t 1969               & D:maj              & 7                  & V                  & maj                & honkytonkwomen     & therollingstones   & Honky Tonk Women   & The Rolling Stones & guitar            \\\\\n",
       "\t 1969               & G:maj              & 0                  & I                  & maj                & honkytonkwomen     & therollingstones   & Honky Tonk Women   & The Rolling Stones & guitar            \\\\\n",
       "\\end{tabular}\n"
      ],
      "text/markdown": [
       "\n",
       "| year | chord | root_integer | root_roman | quality | title_compressed | artist_compressed | title | artist | instrument |\n",
       "|---|---|---|---|---|---|---|---|---|---|\n",
       "| 1984            | C:maj           | 0               | I               | maj             | aninnocentman   | billyjoel       | An Innocent Man | Billy Joel      | piano           |\n",
       "| 1984            | D:min           | 2               | II              | min             | aninnocentman   | billyjoel       | An Innocent Man | Billy Joel      | piano           |\n",
       "| 1984            | F:maj           | 5               | IV              | maj             | aninnocentman   | billyjoel       | An Innocent Man | Billy Joel      | piano           |\n",
       "| 1984            | G:maj           | 7               | V               | maj             | aninnocentman   | billyjoel       | An Innocent Man | Billy Joel      | piano           |\n",
       "| 1984            | C:maj           | 0               | I               | maj             | aninnocentman   | billyjoel       | An Innocent Man | Billy Joel      | piano           |\n",
       "| 1984            | D:min           | 2               | II              | min             | aninnocentman   | billyjoel       | An Innocent Man | Billy Joel      | piano           |\n",
       "| 1984            | F:maj           | 5               | IV              | maj             | aninnocentman   | billyjoel       | An Innocent Man | Billy Joel      | piano           |\n",
       "| 1984            | G:maj           | 7               | V               | maj             | aninnocentman   | billyjoel       | An Innocent Man | Billy Joel      | piano           |\n",
       "| 1984            | C:maj           | 0               | I               | maj             | aninnocentman   | billyjoel       | An Innocent Man | Billy Joel      | piano           |\n",
       "| 1984            | G:min7          | 7               | V               | min7            | aninnocentman   | billyjoel       | An Innocent Man | Billy Joel      | piano           |\n",
       "| 1984            | C:maj/5         | 0               | I               | maj/5           | aninnocentman   | billyjoel       | An Innocent Man | Billy Joel      | piano           |\n",
       "| 1984            | Bb:maj/5        | 10              | bVII            | maj/5           | aninnocentman   | billyjoel       | An Innocent Man | Billy Joel      | piano           |\n",
       "| 1984            | F:maj           | 5               | IV              | maj             | aninnocentman   | billyjoel       | An Innocent Man | Billy Joel      | piano           |\n",
       "| 1984            | G:maj           | 7               | V               | maj             | aninnocentman   | billyjoel       | An Innocent Man | Billy Joel      | piano           |\n",
       "| 1984            | C:maj           | 0               | I               | maj             | aninnocentman   | billyjoel       | An Innocent Man | Billy Joel      | piano           |\n",
       "| 1984            | D:min           | 2               | II              | min             | aninnocentman   | billyjoel       | An Innocent Man | Billy Joel      | piano           |\n",
       "| 1984            | F:maj           | 5               | IV              | maj             | aninnocentman   | billyjoel       | An Innocent Man | Billy Joel      | piano           |\n",
       "| 1984            | G:maj           | 7               | V               | maj             | aninnocentman   | billyjoel       | An Innocent Man | Billy Joel      | piano           |\n",
       "| 1984            | C:maj           | 0               | I               | maj             | aninnocentman   | billyjoel       | An Innocent Man | Billy Joel      | piano           |\n",
       "| 1984            | D:min           | 2               | II              | min             | aninnocentman   | billyjoel       | An Innocent Man | Billy Joel      | piano           |\n",
       "| 1984            | F:maj           | 5               | IV              | maj             | aninnocentman   | billyjoel       | An Innocent Man | Billy Joel      | piano           |\n",
       "| 1984            | G:maj           | 7               | V               | maj             | aninnocentman   | billyjoel       | An Innocent Man | Billy Joel      | piano           |\n",
       "| 1972            | A:maj           | 7               | V               | maj             | letitrain       | ericclapton     | Let It Rain     | Eric Clapton    | guitar          |\n",
       "| 1972            | G:maj/9         | 5               | IV              | maj/9           | letitrain       | ericclapton     | Let It Rain     | Eric Clapton    | guitar          |\n",
       "| 1972            | A:maj           | 7               | V               | maj             | letitrain       | ericclapton     | Let It Rain     | Eric Clapton    | guitar          |\n",
       "| 1972            | G:maj/9         | 5               | IV              | maj/9           | letitrain       | ericclapton     | Let It Rain     | Eric Clapton    | guitar          |\n",
       "| 1972            | A:maj           | 7               | V               | maj             | letitrain       | ericclapton     | Let It Rain     | Eric Clapton    | guitar          |\n",
       "| 1972            | D:maj           | 0               | I               | maj             | letitrain       | ericclapton     | Let It Rain     | Eric Clapton    | guitar          |\n",
       "| 1972            | A:min           | 7               | V               | min             | letitrain       | ericclapton     | Let It Rain     | Eric Clapton    | guitar          |\n",
       "| 1972            | C:maj           | 10              | bVII            | maj             | letitrain       | ericclapton     | Let It Rain     | Eric Clapton    | guitar          |\n",
       "| ... | ... | ... | ... | ... | ... | ... | ... | ... | ... |\n",
       "| 1965               | F#:min             | 9                  | VI                 | min                | help!              | thebeatles         | Help!              | The Beatles        | guitar             |\n",
       "| 1965               | D:maj              | 5                  | IV                 | maj                | help!              | thebeatles         | Help!              | The Beatles        | guitar             |\n",
       "| 1965               | G:maj              | 10                 | bVII               | maj                | help!              | thebeatles         | Help!              | The Beatles        | guitar             |\n",
       "| 1965               | A:maj              | 0                  | I                  | maj                | help!              | thebeatles         | Help!              | The Beatles        | guitar             |\n",
       "| 1965               | C#:min             | 4                  | III                | min                | help!              | thebeatles         | Help!              | The Beatles        | guitar             |\n",
       "| 1965               | F#:maj             | 9                  | VI                 | maj                | help!              | thebeatles         | Help!              | The Beatles        | guitar             |\n",
       "| 1965               | D:maj              | 5                  | IV                 | maj                | help!              | thebeatles         | Help!              | The Beatles        | guitar             |\n",
       "| 1965               | G:maj              | 10                 | bVII               | maj                | help!              | thebeatles         | Help!              | The Beatles        | guitar             |\n",
       "| 1965               | A:maj              | 0                  | I                  | maj                | help!              | thebeatles         | Help!              | The Beatles        | guitar             |\n",
       "| 1965               | B:min              | 2                  | II                 | min                | help!              | thebeatles         | Help!              | The Beatles        | guitar             |\n",
       "| 1965               | B:min/b7           | 2                  | II                 | min/b7             | help!              | thebeatles         | Help!              | The Beatles        | guitar             |\n",
       "| 1969               | N                  | NonHarmonic        | NonHarmonic        | NonHarmonic        | honkytonkwomen     | therollingstones   | Honky Tonk Women   | The Rolling Stones | guitar             |\n",
       "| 1969               | G:maj              | 0                  | I                  | maj                | honkytonkwomen     | therollingstones   | Honky Tonk Women   | The Rolling Stones | guitar             |\n",
       "| 1969               | C:maj              | 5                  | IV                 | maj                | honkytonkwomen     | therollingstones   | Honky Tonk Women   | The Rolling Stones | guitar             |\n",
       "| 1969               | C:sus4             | 5                  | IV                 | sus4               | honkytonkwomen     | therollingstones   | Honky Tonk Women   | The Rolling Stones | guitar             |\n",
       "| 1969               | C:maj              | 5                  | IV                 | maj                | honkytonkwomen     | therollingstones   | Honky Tonk Women   | The Rolling Stones | guitar             |\n",
       "| 1969               | G:maj              | 0                  | I                  | maj                | honkytonkwomen     | therollingstones   | Honky Tonk Women   | The Rolling Stones | guitar             |\n",
       "| 1969               | A:maj              | 2                  | II                 | maj                | honkytonkwomen     | therollingstones   | Honky Tonk Women   | The Rolling Stones | guitar             |\n",
       "| 1969               | D:maj              | 7                  | V                  | maj                | honkytonkwomen     | therollingstones   | Honky Tonk Women   | The Rolling Stones | guitar             |\n",
       "| 1969               | D:sus4             | 7                  | V                  | sus4               | honkytonkwomen     | therollingstones   | Honky Tonk Women   | The Rolling Stones | guitar             |\n",
       "| 1969               | D:maj              | 7                  | V                  | maj                | honkytonkwomen     | therollingstones   | Honky Tonk Women   | The Rolling Stones | guitar             |\n",
       "| 1969               | G:maj              | 0                  | I                  | maj                | honkytonkwomen     | therollingstones   | Honky Tonk Women   | The Rolling Stones | guitar             |\n",
       "| 1969               | C:maj              | 5                  | IV                 | maj                | honkytonkwomen     | therollingstones   | Honky Tonk Women   | The Rolling Stones | guitar             |\n",
       "| 1969               | C:sus4             | 5                  | IV                 | sus4               | honkytonkwomen     | therollingstones   | Honky Tonk Women   | The Rolling Stones | guitar             |\n",
       "| 1969               | C:maj              | 5                  | IV                 | maj                | honkytonkwomen     | therollingstones   | Honky Tonk Women   | The Rolling Stones | guitar             |\n",
       "| 1969               | G:maj              | 0                  | I                  | maj                | honkytonkwomen     | therollingstones   | Honky Tonk Women   | The Rolling Stones | guitar             |\n",
       "| 1969               | D:maj              | 7                  | V                  | maj                | honkytonkwomen     | therollingstones   | Honky Tonk Women   | The Rolling Stones | guitar             |\n",
       "| 1969               | G:maj              | 0                  | I                  | maj                | honkytonkwomen     | therollingstones   | Honky Tonk Women   | The Rolling Stones | guitar             |\n",
       "| 1969               | D:maj              | 7                  | V                  | maj                | honkytonkwomen     | therollingstones   | Honky Tonk Women   | The Rolling Stones | guitar             |\n",
       "| 1969               | G:maj              | 0                  | I                  | maj                | honkytonkwomen     | therollingstones   | Honky Tonk Women   | The Rolling Stones | guitar             |\n",
       "\n"
      ],
      "text/plain": [
       "     year chord    root_integer root_roman  quality     title_compressed\n",
       "1    1984 C:maj    0            I           maj         aninnocentman   \n",
       "2    1984 D:min    2            II          min         aninnocentman   \n",
       "3    1984 F:maj    5            IV          maj         aninnocentman   \n",
       "4    1984 G:maj    7            V           maj         aninnocentman   \n",
       "5    1984 C:maj    0            I           maj         aninnocentman   \n",
       "6    1984 D:min    2            II          min         aninnocentman   \n",
       "7    1984 F:maj    5            IV          maj         aninnocentman   \n",
       "8    1984 G:maj    7            V           maj         aninnocentman   \n",
       "9    1984 C:maj    0            I           maj         aninnocentman   \n",
       "10   1984 G:min7   7            V           min7        aninnocentman   \n",
       "11   1984 C:maj/5  0            I           maj/5       aninnocentman   \n",
       "12   1984 Bb:maj/5 10           bVII        maj/5       aninnocentman   \n",
       "13   1984 F:maj    5            IV          maj         aninnocentman   \n",
       "14   1984 G:maj    7            V           maj         aninnocentman   \n",
       "15   1984 C:maj    0            I           maj         aninnocentman   \n",
       "16   1984 D:min    2            II          min         aninnocentman   \n",
       "17   1984 F:maj    5            IV          maj         aninnocentman   \n",
       "18   1984 G:maj    7            V           maj         aninnocentman   \n",
       "19   1984 C:maj    0            I           maj         aninnocentman   \n",
       "20   1984 D:min    2            II          min         aninnocentman   \n",
       "21   1984 F:maj    5            IV          maj         aninnocentman   \n",
       "22   1984 G:maj    7            V           maj         aninnocentman   \n",
       "23   1972 A:maj    7            V           maj         letitrain       \n",
       "24   1972 G:maj/9  5            IV          maj/9       letitrain       \n",
       "25   1972 A:maj    7            V           maj         letitrain       \n",
       "26   1972 G:maj/9  5            IV          maj/9       letitrain       \n",
       "27   1972 A:maj    7            V           maj         letitrain       \n",
       "28   1972 D:maj    0            I           maj         letitrain       \n",
       "29   1972 A:min    7            V           min         letitrain       \n",
       "30   1972 C:maj    10           bVII        maj         letitrain       \n",
       "...  ...  ...      ...          ...         ...         ...             \n",
       "1072 1965 F#:min   9            VI          min         help!           \n",
       "1073 1965 D:maj    5            IV          maj         help!           \n",
       "1074 1965 G:maj    10           bVII        maj         help!           \n",
       "1075 1965 A:maj    0            I           maj         help!           \n",
       "1076 1965 C#:min   4            III         min         help!           \n",
       "1077 1965 F#:maj   9            VI          maj         help!           \n",
       "1078 1965 D:maj    5            IV          maj         help!           \n",
       "1079 1965 G:maj    10           bVII        maj         help!           \n",
       "1080 1965 A:maj    0            I           maj         help!           \n",
       "1081 1965 B:min    2            II          min         help!           \n",
       "1082 1965 B:min/b7 2            II          min/b7      help!           \n",
       "1083 1969 N        NonHarmonic  NonHarmonic NonHarmonic honkytonkwomen  \n",
       "1084 1969 G:maj    0            I           maj         honkytonkwomen  \n",
       "1085 1969 C:maj    5            IV          maj         honkytonkwomen  \n",
       "1086 1969 C:sus4   5            IV          sus4        honkytonkwomen  \n",
       "1087 1969 C:maj    5            IV          maj         honkytonkwomen  \n",
       "1088 1969 G:maj    0            I           maj         honkytonkwomen  \n",
       "1089 1969 A:maj    2            II          maj         honkytonkwomen  \n",
       "1090 1969 D:maj    7            V           maj         honkytonkwomen  \n",
       "1091 1969 D:sus4   7            V           sus4        honkytonkwomen  \n",
       "1092 1969 D:maj    7            V           maj         honkytonkwomen  \n",
       "1093 1969 G:maj    0            I           maj         honkytonkwomen  \n",
       "1094 1969 C:maj    5            IV          maj         honkytonkwomen  \n",
       "1095 1969 C:sus4   5            IV          sus4        honkytonkwomen  \n",
       "1096 1969 C:maj    5            IV          maj         honkytonkwomen  \n",
       "1097 1969 G:maj    0            I           maj         honkytonkwomen  \n",
       "1098 1969 D:maj    7            V           maj         honkytonkwomen  \n",
       "1099 1969 G:maj    0            I           maj         honkytonkwomen  \n",
       "1100 1969 D:maj    7            V           maj         honkytonkwomen  \n",
       "1101 1969 G:maj    0            I           maj         honkytonkwomen  \n",
       "     artist_compressed title            artist             instrument\n",
       "1    billyjoel         An Innocent Man  Billy Joel         piano     \n",
       "2    billyjoel         An Innocent Man  Billy Joel         piano     \n",
       "3    billyjoel         An Innocent Man  Billy Joel         piano     \n",
       "4    billyjoel         An Innocent Man  Billy Joel         piano     \n",
       "5    billyjoel         An Innocent Man  Billy Joel         piano     \n",
       "6    billyjoel         An Innocent Man  Billy Joel         piano     \n",
       "7    billyjoel         An Innocent Man  Billy Joel         piano     \n",
       "8    billyjoel         An Innocent Man  Billy Joel         piano     \n",
       "9    billyjoel         An Innocent Man  Billy Joel         piano     \n",
       "10   billyjoel         An Innocent Man  Billy Joel         piano     \n",
       "11   billyjoel         An Innocent Man  Billy Joel         piano     \n",
       "12   billyjoel         An Innocent Man  Billy Joel         piano     \n",
       "13   billyjoel         An Innocent Man  Billy Joel         piano     \n",
       "14   billyjoel         An Innocent Man  Billy Joel         piano     \n",
       "15   billyjoel         An Innocent Man  Billy Joel         piano     \n",
       "16   billyjoel         An Innocent Man  Billy Joel         piano     \n",
       "17   billyjoel         An Innocent Man  Billy Joel         piano     \n",
       "18   billyjoel         An Innocent Man  Billy Joel         piano     \n",
       "19   billyjoel         An Innocent Man  Billy Joel         piano     \n",
       "20   billyjoel         An Innocent Man  Billy Joel         piano     \n",
       "21   billyjoel         An Innocent Man  Billy Joel         piano     \n",
       "22   billyjoel         An Innocent Man  Billy Joel         piano     \n",
       "23   ericclapton       Let It Rain      Eric Clapton       guitar    \n",
       "24   ericclapton       Let It Rain      Eric Clapton       guitar    \n",
       "25   ericclapton       Let It Rain      Eric Clapton       guitar    \n",
       "26   ericclapton       Let It Rain      Eric Clapton       guitar    \n",
       "27   ericclapton       Let It Rain      Eric Clapton       guitar    \n",
       "28   ericclapton       Let It Rain      Eric Clapton       guitar    \n",
       "29   ericclapton       Let It Rain      Eric Clapton       guitar    \n",
       "30   ericclapton       Let It Rain      Eric Clapton       guitar    \n",
       "...  ...               ...              ...                ...       \n",
       "1072 thebeatles        Help!            The Beatles        guitar    \n",
       "1073 thebeatles        Help!            The Beatles        guitar    \n",
       "1074 thebeatles        Help!            The Beatles        guitar    \n",
       "1075 thebeatles        Help!            The Beatles        guitar    \n",
       "1076 thebeatles        Help!            The Beatles        guitar    \n",
       "1077 thebeatles        Help!            The Beatles        guitar    \n",
       "1078 thebeatles        Help!            The Beatles        guitar    \n",
       "1079 thebeatles        Help!            The Beatles        guitar    \n",
       "1080 thebeatles        Help!            The Beatles        guitar    \n",
       "1081 thebeatles        Help!            The Beatles        guitar    \n",
       "1082 thebeatles        Help!            The Beatles        guitar    \n",
       "1083 therollingstones  Honky Tonk Women The Rolling Stones guitar    \n",
       "1084 therollingstones  Honky Tonk Women The Rolling Stones guitar    \n",
       "1085 therollingstones  Honky Tonk Women The Rolling Stones guitar    \n",
       "1086 therollingstones  Honky Tonk Women The Rolling Stones guitar    \n",
       "1087 therollingstones  Honky Tonk Women The Rolling Stones guitar    \n",
       "1088 therollingstones  Honky Tonk Women The Rolling Stones guitar    \n",
       "1089 therollingstones  Honky Tonk Women The Rolling Stones guitar    \n",
       "1090 therollingstones  Honky Tonk Women The Rolling Stones guitar    \n",
       "1091 therollingstones  Honky Tonk Women The Rolling Stones guitar    \n",
       "1092 therollingstones  Honky Tonk Women The Rolling Stones guitar    \n",
       "1093 therollingstones  Honky Tonk Women The Rolling Stones guitar    \n",
       "1094 therollingstones  Honky Tonk Women The Rolling Stones guitar    \n",
       "1095 therollingstones  Honky Tonk Women The Rolling Stones guitar    \n",
       "1096 therollingstones  Honky Tonk Women The Rolling Stones guitar    \n",
       "1097 therollingstones  Honky Tonk Women The Rolling Stones guitar    \n",
       "1098 therollingstones  Honky Tonk Women The Rolling Stones guitar    \n",
       "1099 therollingstones  Honky Tonk Women The Rolling Stones guitar    \n",
       "1100 therollingstones  Honky Tonk Women The Rolling Stones guitar    \n",
       "1101 therollingstones  Honky Tonk Women The Rolling Stones guitar    "
      ]
     },
     "metadata": {},
     "output_type": "display_data"
    }
   ],
   "source": [
    "tags <- tibble(\n",
    "  artist = c('Abba', 'Billy Joel', 'Elton John', 'Stevie Wonder', 'The Rolling Stones', 'The Beatles', 'Eric Clapton'),\n",
    "  instrument = c('piano', 'piano', 'piano', 'piano', 'guitar', 'guitar', 'guitar'))\n",
    "\n",
    "# Creating a new dataframe `bb_tagged` that includes a new column `instrument` from `tags`\n",
    "bb_tagged <- bb %>%\n",
    "    inner_join(tags)\n",
    "\n",
    "# Displaying the new dataframe\n",
    "bb_tagged"
   ]
  },
  {
   "cell_type": "markdown",
   "metadata": {
    "dc": {
     "key": "54"
    },
    "deletable": false,
    "editable": false,
    "run_control": {
     "frozen": true
    },
    "tags": [
     "context"
    ]
   },
   "source": [
    "## 8. Comparing chords in piano-driven and guitar-driven songs\n",
    "<p>Let's take a look at any difference in how common chords are in these two song groups. To clean things up, we'll just focus on the 20 chords most common in the McGill Billboard dataset overall.</p>\n",
    "<p>While we want to be careful about drawing any conclusions from such a small set of songs, we can see that the chords easiest to play on the guitar <em>do</em> dominate the guitar-driven songs, especially G, D, E, and C major, as well as A major and minor. Similarly, \"flat\" chords (B-flat, E-flat, A-flat major) occur frequently in piano-driven songs, though they are nearly absent from the guitar-driven songs. In fact, the first and fourth most frequent piano chords are \"flat\" chords that occur rarely, if at all, in the guitar songs.</p>\n",
    "<p>So with all the appropriate caveats, it seems like the instrument-based-harmony hypothesis does have some merit and is worth further examination.</p>"
   ]
  },
  {
   "cell_type": "code",
   "execution_count": 32,
   "metadata": {
    "dc": {
     "key": "54"
    },
    "tags": [
     "sample_code"
    ]
   },
   "outputs": [
    {
     "name": "stderr",
     "output_type": "stream",
     "text": [
      "Warning message in chord == top_20:\n",
      "\"Länge des längeren Objektes\n",
      " \t ist kein Vielfaches der Länge des kürzeren Objektes\""
     ]
    },
    {
     "data": {
      "image/png": "[encoded data removed]",
      "text/plain": [
       "plot without title"
      ]
     },
     "metadata": {},
     "output_type": "display_data"
    }
   ],
   "source": [
    "# The top 20 most common chords\n",
    "top_20 <- bb_count$chord[1:20]\n",
    "\n",
    "# Comparing the frequency of the 20 most common chords in piano- and guitar-driven songs\n",
    "bb_tagged %>% filter(chord==top_20) %>%\n",
    "  count(chord,instrument,sort=T) %>%\n",
    "  ggplot(aes(x=chord,y=n))+geom_bar(stat=\"identity\")+facet_grid(~instrument)+\n",
    "  coord_flip() +\n",
    "  xlab(\"chord\") +\n",
    "  ylab(\"n\") \n"
   ]
  },
  {
   "cell_type": "markdown",
   "metadata": {
    "dc": {
     "key": "61"
    },
    "deletable": false,
    "editable": false,
    "run_control": {
     "frozen": true
    },
    "tags": [
     "context"
    ]
   },
   "source": [
    "## 9. Comparing chord bigrams in piano-driven and guitar-driven songs\n",
    "<p>Since chord occurrence and chord bigram occurrence are naturally strongly tied to each other, it would not be a reach to expect that a difference in chord frequency would be reflected in a difference in chord bigram frequency. Indeed that is what we find.</p>"
   ]
  },
  {
   "cell_type": "code",
   "execution_count": 33,
   "metadata": {
    "dc": {
     "key": "61"
    },
    "tags": [
     "sample_code"
    ]
   },
   "outputs": [
    {
     "data": {
      "text/html": [
       "<ol class=list-inline>\n",
       "\t<li>'G:maj D:maj'</li>\n",
       "\t<li>'C:maj F:maj'</li>\n",
       "\t<li>'C:maj G:maj'</li>\n",
       "\t<li>'B:maj E:maj'</li>\n",
       "\t<li>'F:maj C:maj'</li>\n",
       "\t<li>'A:maj E:maj'</li>\n",
       "\t<li>'A:maj D:maj'</li>\n",
       "\t<li>'D:maj G:maj'</li>\n",
       "\t<li>'G:maj C:maj'</li>\n",
       "\t<li>'D:maj A:maj'</li>\n",
       "\t<li>'E:maj A:maj'</li>\n",
       "\t<li>'F:maj Bb:maj'</li>\n",
       "\t<li>'Bb:maj F:maj'</li>\n",
       "\t<li>'E:maj B:maj'</li>\n",
       "\t<li>'Bb:maj C:maj'</li>\n",
       "\t<li>'G:maj A:maj'</li>\n",
       "\t<li>'A:maj B:maj'</li>\n",
       "\t<li>'A:maj G:maj'</li>\n",
       "\t<li>'F:maj G:maj'</li>\n",
       "\t<li>'D:maj C:maj'</li>\n",
       "</ol>\n"
      ],
      "text/latex": [
       "\\begin{enumerate*}\n",
       "\\item 'G:maj D:maj'\n",
       "\\item 'C:maj F:maj'\n",
       "\\item 'C:maj G:maj'\n",
       "\\item 'B:maj E:maj'\n",
       "\\item 'F:maj C:maj'\n",
       "\\item 'A:maj E:maj'\n",
       "\\item 'A:maj D:maj'\n",
       "\\item 'D:maj G:maj'\n",
       "\\item 'G:maj C:maj'\n",
       "\\item 'D:maj A:maj'\n",
       "\\item 'E:maj A:maj'\n",
       "\\item 'F:maj Bb:maj'\n",
       "\\item 'Bb:maj F:maj'\n",
       "\\item 'E:maj B:maj'\n",
       "\\item 'Bb:maj C:maj'\n",
       "\\item 'G:maj A:maj'\n",
       "\\item 'A:maj B:maj'\n",
       "\\item 'A:maj G:maj'\n",
       "\\item 'F:maj G:maj'\n",
       "\\item 'D:maj C:maj'\n",
       "\\end{enumerate*}\n"
      ],
      "text/markdown": [
       "1. 'G:maj D:maj'\n",
       "2. 'C:maj F:maj'\n",
       "3. 'C:maj G:maj'\n",
       "4. 'B:maj E:maj'\n",
       "5. 'F:maj C:maj'\n",
       "6. 'A:maj E:maj'\n",
       "7. 'A:maj D:maj'\n",
       "8. 'D:maj G:maj'\n",
       "9. 'G:maj C:maj'\n",
       "10. 'D:maj A:maj'\n",
       "11. 'E:maj A:maj'\n",
       "12. 'F:maj Bb:maj'\n",
       "13. 'Bb:maj F:maj'\n",
       "14. 'E:maj B:maj'\n",
       "15. 'Bb:maj C:maj'\n",
       "16. 'G:maj A:maj'\n",
       "17. 'A:maj B:maj'\n",
       "18. 'A:maj G:maj'\n",
       "19. 'F:maj G:maj'\n",
       "20. 'D:maj C:maj'\n",
       "\n",
       "\n"
      ],
      "text/plain": [
       " [1] \"G:maj D:maj\"  \"C:maj F:maj\"  \"C:maj G:maj\"  \"B:maj E:maj\"  \"F:maj C:maj\" \n",
       " [6] \"A:maj E:maj\"  \"A:maj D:maj\"  \"D:maj G:maj\"  \"G:maj C:maj\"  \"D:maj A:maj\" \n",
       "[11] \"E:maj A:maj\"  \"F:maj Bb:maj\" \"Bb:maj F:maj\" \"E:maj B:maj\"  \"Bb:maj C:maj\"\n",
       "[16] \"G:maj A:maj\"  \"A:maj B:maj\"  \"A:maj G:maj\"  \"F:maj G:maj\"  \"D:maj C:maj\" "
      ]
     },
     "metadata": {},
     "output_type": "display_data"
    },
    {
     "name": "stderr",
     "output_type": "stream",
     "text": [
      "Warning message in bigram == top_20_bigram:\n",
      "\"Länge des längeren Objektes\n",
      " \t ist kein Vielfaches der Länge des kürzeren Objektes\""
     ]
    },
    {
     "data": {
      "image/png": "[encoded data removed]",
      "text/plain": [
       "plot without title"
      ]
     },
     "metadata": {},
     "output_type": "display_data"
    }
   ],
   "source": [
    "# The top 20 most common bigrams\n",
    "top_20_bigram <- bb_bigram_count$bigram[1:20]\n",
    "top_20_bigram\n",
    "\n",
    "# Creating a faceted plot comparing guitar- and piano-driven songs for bigram frequency\n",
    "bb_tagged %>%\n",
    "  mutate(next_chord=lead(chord,1),next_title=lead(title,1),bigram=str_c(chord, next_chord, sep = \" \")) %>%\n",
    "  filter(title==next_title) %>%\n",
    "  filter(bigram==top_20_bigram) %>%\n",
    "  count(bigram,instrument,sort=T)%>%\n",
    "  ggplot(aes(x=bigram,y=n))+geom_bar(stat=\"identity\")+facet_grid(~instrument)+\n",
    "  coord_flip() +\n",
    "  xlab(\"bigram\") +\n",
    "  ylab(\"n\")"
   ]
  },
  {
   "cell_type": "markdown",
   "metadata": {
    "dc": {
     "key": "68"
    },
    "deletable": false,
    "editable": false,
    "run_control": {
     "frozen": true
    },
    "tags": [
     "context"
    ]
   },
   "source": [
    "## 10. Conclusion\n",
    "<p>We set out asking if the degree to which a chord is \"idiomatic\" on an instrument affects how frequently it is used by a songwriter. It seems that is indeed the case. In a large representative sample of pop/rock songs from the historical Billboard charts, the chords most often learned first by guitarists and pianists are the most common. In fact, chords commonly deemed <em>easy</em> or <em>beginner-friendly</em> on <strong>both</strong> piano and guitar are far and away the most common in the corpus.</p>\n",
    "<p>We also examined a subset of 35 songs from seven piano- and guitar-heavy artists and found that guitarists and pianists tend to use different sets of chords for their songs. This was an extremely small (and likely not representative) sample, so we can do nothing more than hypothesize that this trend might carry over throughout the larger dataset. But it seems from this exploration that it's worth a closer look.</p>\n",
    "<p>There are still more questions to explore with this dataset. What about band-driven genres like classic R&amp;B and funk, where artists like James Brown and Chicago build chords from a large number of instruments each playing a single note? What about \"progressive\" bands like Yes and Genesis, where \"easy\" and \"idiomatic\" may be less of a concern during the songwriting process? And what if we compared this dataset to a collection of chords from classical songs, jazz charts, folk songs, liturgical songs?</p>\n",
    "<p>There's only one way to find out!</p>"
   ]
  },
  {
   "cell_type": "code",
   "execution_count": 34,
   "metadata": {
    "dc": {
     "key": "68"
    },
    "tags": [
     "sample_code"
    ]
   },
   "outputs": [],
   "source": [
    "# Set to TRUE or FALSE to reflect your answer.\n",
    "hypothesis_valid <- TRUE\n",
    "\n",
    "# Set to TRUE or FALSE to reflect your answer.\n",
    "more_data_needed <- TRUE"
   ]
  }
 ],
 "metadata": {
  "kernelspec": {
   "display_name": "R",
   "language": "R",
   "name": "ir"
  },
  "language_info": {
   "codemirror_mode": "r",
   "file_extension": ".r",
   "mimetype": "text/x-r-source",
   "name": "R",
   "pygments_lexer": "r",
   "version": "3.6.1"
  }
 },
 "nbformat": 4,
 "nbformat_minor": 2
}
