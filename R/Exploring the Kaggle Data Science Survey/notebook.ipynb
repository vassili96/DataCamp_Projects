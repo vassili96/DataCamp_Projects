{
 "cells": [
  {
   "cell_type": "markdown",
   "metadata": {
    "dc": {
     "key": "4"
    },
    "deletable": false,
    "editable": false,
    "run_control": {
     "frozen": true
    },
    "tags": [
     "context"
    ]
   },
   "source": [
    "## 1. Welcome to the world of data science\n",
    "<p>Throughout the world of data science, there are many languages and tools that can be used to complete a given task. While you are often able to use whichever tool you prefer, it is often important for analysts to work with similar platforms so that they can share their code with one another. Learning what professionals in the data science industry use while at work can help you gain a better understanding of things that you may be asked to do in the future. </p>\n",
    "<p>In this project, we are going to find out what tools and languages professionals use in their day-to-day work. Our data comes from the <a href=\"https://www.kaggle.com/kaggle/kaggle-survey-2017?utm_medium=partner&utm_source=datacamp.com&utm_campaign=ml+survey+case+study\">Kaggle Data Science Survey</a> which includes responses from over 10,000 people that write code to analyze data in their daily work. </p>"
   ]
  },
  {
   "cell_type": "code",
   "execution_count": 12,
   "metadata": {
    "dc": {
     "key": "4"
    },
    "tags": [
     "sample_code"
    ]
   },
   "outputs": [
    {
     "name": "stderr",
     "output_type": "stream",
     "text": [
      "Parsed with column specification:\n",
      "cols(\n",
      "  Respondent = col_double(),\n",
      "  WorkToolsSelect = col_character(),\n",
      "  LanguageRecommendationSelect = col_character(),\n",
      "  EmployerIndustry = col_character(),\n",
      "  WorkAlgorithmsSelect = col_character()\n",
      ")\n"
     ]
    },
    {
     "data": {
      "text/html": [
       "<table>\n",
       "<thead><tr><th scope=col>Respondent</th><th scope=col>WorkToolsSelect</th><th scope=col>LanguageRecommendationSelect</th><th scope=col>EmployerIndustry</th><th scope=col>WorkAlgorithmsSelect</th></tr></thead>\n",
       "<tbody>\n",
       "\t<tr><td> 1                                                                                                                                                                                                                 </td><td>Amazon Web services,Oracle Data Mining/ Oracle R Enterprise,Perl                                                                                                                                                   </td><td>F#                                                                                                                                                                                                                 </td><td>Internet-based                                                                                                                                                                                                     </td><td>Neural Networks,Random Forests,RNNs                                                                                                                                                                                </td></tr>\n",
       "\t<tr><td> 2                                                                                                                                                                                                                 </td><td>Amazon Machine Learning,Amazon Web services,Cloudera,Hadoop/Hive/Pig,Impala,Java,Mathematica,MATLAB/Octave,Microsoft Excel Data Mining,Microsoft SQL Server Data Mining,NoSQL,Python,R,SAS Base,SAS JMP,SQL,Tableau</td><td>Python                                                                                                                                                                                                             </td><td>Mix of fields                                                                                                                                                                                                      </td><td>Bayesian Techniques,Decision Trees,Random Forests,Regression/Logistic Regression                                                                                                                                   </td></tr>\n",
       "\t<tr><td> 3                                                                                                                                                                                                                 </td><td>C/C++,Jupyter notebooks,MATLAB/Octave,Python,R,TensorFlow                                                                                                                                                          </td><td>Python                                                                                                                                                                                                             </td><td>Technology                                                                                                                                                                                                         </td><td>Bayesian Techniques,CNNs,Ensemble Methods,Neural Networks,Regression/Logistic Regression,SVMs                                                                                                                      </td></tr>\n",
       "\t<tr><td> 4                                                                                                                                                                                                                 </td><td>Jupyter notebooks,Python,SQL,TensorFlow                                                                                                                                                                            </td><td>Python                                                                                                                                                                                                             </td><td>Academic                                                                                                                                                                                                           </td><td>Bayesian Techniques,CNNs,Decision Trees,Gradient Boosted Machines,Neural Networks,Random Forests,Regression/Logistic Regression                                                                                    </td></tr>\n",
       "\t<tr><td> 5                                                                                                                                                                                                                 </td><td>C/C++,Cloudera,Hadoop/Hive/Pig,Java,NoSQL,R,Unix shell / awk                                                                                                                                                       </td><td>R                                                                                                                                                                                                                  </td><td>Government                                                                                                                                                                                                         </td><td>NA                                                                                                                                                                                                                 </td></tr>\n",
       "\t<tr><td> 6                                                                                                                                                                                                                 </td><td>SQL                                                                                                                                                                                                                </td><td>Python                                                                                                                                                                                                             </td><td>Non-profit                                                                                                                                                                                                         </td><td>NA                                                                                                                                                                                                                 </td></tr>\n",
       "\t<tr><td> 7                                                                                                                                                                                                                 </td><td>Jupyter notebooks,NoSQL,Python,R,SQL,Unix shell / awk                                                                                                                                                              </td><td>Python                                                                                                                                                                                                             </td><td>Internet-based                                                                                                                                                                                                     </td><td>CNNs,Decision Trees,Gradient Boosted Machines,Random Forests,Regression/Logistic Regression,SVMs                                                                                                                   </td></tr>\n",
       "\t<tr><td> 8                                                                                                                                                                                                                 </td><td>Python,Spark / MLlib,Tableau,TensorFlow,Other                                                                                                                                                                      </td><td>Python                                                                                                                                                                                                             </td><td>Mix of fields                                                                                                                                                                                                      </td><td>Bayesian Techniques,CNNs,HMMs,Neural Networks,Random Forests,Regression/Logistic Regression,SVMs                                                                                                                   </td></tr>\n",
       "\t<tr><td> 9                                                                                                                                                                                                                 </td><td>Jupyter notebooks,MATLAB/Octave,Python,SAS Base,SQL                                                                                                                                                                </td><td>Python                                                                                                                                                                                                             </td><td>Financial                                                                                                                                                                                                          </td><td>Ensemble Methods,Gradient Boosted Machines                                                                                                                                                                         </td></tr>\n",
       "\t<tr><td>10                                                                                                                                                                                                                 </td><td>C/C++,IBM Cognos,MATLAB/Octave,Microsoft Excel Data Mining,Microsoft R Server (Formerly Revolution Analytics),Microsoft SQL Server Data Mining,Perl,Python,R,SQL,Unix shell / awk                                  </td><td>R                                                                                                                                                                                                                  </td><td>Technology                                                                                                                                                                                                         </td><td>Bayesian Techniques,Regression/Logistic Regression                                                                                                                                                                 </td></tr>\n",
       "</tbody>\n",
       "</table>\n"
      ],
      "text/latex": [
       "\\begin{tabular}{r|lllll}\n",
       " Respondent & WorkToolsSelect & LanguageRecommendationSelect & EmployerIndustry & WorkAlgorithmsSelect\\\\\n",
       "\\hline\n",
       "\t  1                                                                                                                                                                                                                  & Amazon Web services,Oracle Data Mining/ Oracle R Enterprise,Perl                                                                                                                                                    & F\\#                                                                                                                                                                                                                & Internet-based                                                                                                                                                                                                      & Neural Networks,Random Forests,RNNs                                                                                                                                                                                \\\\\n",
       "\t  2                                                                                                                                                                                                                  & Amazon Machine Learning,Amazon Web services,Cloudera,Hadoop/Hive/Pig,Impala,Java,Mathematica,MATLAB/Octave,Microsoft Excel Data Mining,Microsoft SQL Server Data Mining,NoSQL,Python,R,SAS Base,SAS JMP,SQL,Tableau & Python                                                                                                                                                                                                              & Mix of fields                                                                                                                                                                                                       & Bayesian Techniques,Decision Trees,Random Forests,Regression/Logistic Regression                                                                                                                                   \\\\\n",
       "\t  3                                                                                                                                                                                                                  & C/C++,Jupyter notebooks,MATLAB/Octave,Python,R,TensorFlow                                                                                                                                                           & Python                                                                                                                                                                                                              & Technology                                                                                                                                                                                                          & Bayesian Techniques,CNNs,Ensemble Methods,Neural Networks,Regression/Logistic Regression,SVMs                                                                                                                      \\\\\n",
       "\t  4                                                                                                                                                                                                                  & Jupyter notebooks,Python,SQL,TensorFlow                                                                                                                                                                             & Python                                                                                                                                                                                                              & Academic                                                                                                                                                                                                            & Bayesian Techniques,CNNs,Decision Trees,Gradient Boosted Machines,Neural Networks,Random Forests,Regression/Logistic Regression                                                                                    \\\\\n",
       "\t  5                                                                                                                                                                                                                  & C/C++,Cloudera,Hadoop/Hive/Pig,Java,NoSQL,R,Unix shell / awk                                                                                                                                                        & R                                                                                                                                                                                                                   & Government                                                                                                                                                                                                          & NA                                                                                                                                                                                                                 \\\\\n",
       "\t  6                                                                                                                                                                                                                  & SQL                                                                                                                                                                                                                 & Python                                                                                                                                                                                                              & Non-profit                                                                                                                                                                                                          & NA                                                                                                                                                                                                                 \\\\\n",
       "\t  7                                                                                                                                                                                                                  & Jupyter notebooks,NoSQL,Python,R,SQL,Unix shell / awk                                                                                                                                                               & Python                                                                                                                                                                                                              & Internet-based                                                                                                                                                                                                      & CNNs,Decision Trees,Gradient Boosted Machines,Random Forests,Regression/Logistic Regression,SVMs                                                                                                                   \\\\\n",
       "\t  8                                                                                                                                                                                                                  & Python,Spark / MLlib,Tableau,TensorFlow,Other                                                                                                                                                                       & Python                                                                                                                                                                                                              & Mix of fields                                                                                                                                                                                                       & Bayesian Techniques,CNNs,HMMs,Neural Networks,Random Forests,Regression/Logistic Regression,SVMs                                                                                                                   \\\\\n",
       "\t  9                                                                                                                                                                                                                  & Jupyter notebooks,MATLAB/Octave,Python,SAS Base,SQL                                                                                                                                                                 & Python                                                                                                                                                                                                              & Financial                                                                                                                                                                                                           & Ensemble Methods,Gradient Boosted Machines                                                                                                                                                                         \\\\\n",
       "\t 10                                                                                                                                                                                                                  & C/C++,IBM Cognos,MATLAB/Octave,Microsoft Excel Data Mining,Microsoft R Server (Formerly Revolution Analytics),Microsoft SQL Server Data Mining,Perl,Python,R,SQL,Unix shell / awk                                   & R                                                                                                                                                                                                                   & Technology                                                                                                                                                                                                          & Bayesian Techniques,Regression/Logistic Regression                                                                                                                                                                 \\\\\n",
       "\\end{tabular}\n"
      ],
      "text/markdown": [
       "\n",
       "| Respondent | WorkToolsSelect | LanguageRecommendationSelect | EmployerIndustry | WorkAlgorithmsSelect |\n",
       "|---|---|---|---|---|\n",
       "|  1                                                                                                                                                                                                                  | Amazon Web services,Oracle Data Mining/ Oracle R Enterprise,Perl                                                                                                                                                    | F#                                                                                                                                                                                                                  | Internet-based                                                                                                                                                                                                      | Neural Networks,Random Forests,RNNs                                                                                                                                                                                 |\n",
       "|  2                                                                                                                                                                                                                  | Amazon Machine Learning,Amazon Web services,Cloudera,Hadoop/Hive/Pig,Impala,Java,Mathematica,MATLAB/Octave,Microsoft Excel Data Mining,Microsoft SQL Server Data Mining,NoSQL,Python,R,SAS Base,SAS JMP,SQL,Tableau | Python                                                                                                                                                                                                              | Mix of fields                                                                                                                                                                                                       | Bayesian Techniques,Decision Trees,Random Forests,Regression/Logistic Regression                                                                                                                                    |\n",
       "|  3                                                                                                                                                                                                                  | C/C++,Jupyter notebooks,MATLAB/Octave,Python,R,TensorFlow                                                                                                                                                           | Python                                                                                                                                                                                                              | Technology                                                                                                                                                                                                          | Bayesian Techniques,CNNs,Ensemble Methods,Neural Networks,Regression/Logistic Regression,SVMs                                                                                                                       |\n",
       "|  4                                                                                                                                                                                                                  | Jupyter notebooks,Python,SQL,TensorFlow                                                                                                                                                                             | Python                                                                                                                                                                                                              | Academic                                                                                                                                                                                                            | Bayesian Techniques,CNNs,Decision Trees,Gradient Boosted Machines,Neural Networks,Random Forests,Regression/Logistic Regression                                                                                     |\n",
       "|  5                                                                                                                                                                                                                  | C/C++,Cloudera,Hadoop/Hive/Pig,Java,NoSQL,R,Unix shell / awk                                                                                                                                                        | R                                                                                                                                                                                                                   | Government                                                                                                                                                                                                          | NA                                                                                                                                                                                                                  |\n",
       "|  6                                                                                                                                                                                                                  | SQL                                                                                                                                                                                                                 | Python                                                                                                                                                                                                              | Non-profit                                                                                                                                                                                                          | NA                                                                                                                                                                                                                  |\n",
       "|  7                                                                                                                                                                                                                  | Jupyter notebooks,NoSQL,Python,R,SQL,Unix shell / awk                                                                                                                                                               | Python                                                                                                                                                                                                              | Internet-based                                                                                                                                                                                                      | CNNs,Decision Trees,Gradient Boosted Machines,Random Forests,Regression/Logistic Regression,SVMs                                                                                                                    |\n",
       "|  8                                                                                                                                                                                                                  | Python,Spark / MLlib,Tableau,TensorFlow,Other                                                                                                                                                                       | Python                                                                                                                                                                                                              | Mix of fields                                                                                                                                                                                                       | Bayesian Techniques,CNNs,HMMs,Neural Networks,Random Forests,Regression/Logistic Regression,SVMs                                                                                                                    |\n",
       "|  9                                                                                                                                                                                                                  | Jupyter notebooks,MATLAB/Octave,Python,SAS Base,SQL                                                                                                                                                                 | Python                                                                                                                                                                                                              | Financial                                                                                                                                                                                                           | Ensemble Methods,Gradient Boosted Machines                                                                                                                                                                          |\n",
       "| 10                                                                                                                                                                                                                  | C/C++,IBM Cognos,MATLAB/Octave,Microsoft Excel Data Mining,Microsoft R Server (Formerly Revolution Analytics),Microsoft SQL Server Data Mining,Perl,Python,R,SQL,Unix shell / awk                                   | R                                                                                                                                                                                                                   | Technology                                                                                                                                                                                                          | Bayesian Techniques,Regression/Logistic Regression                                                                                                                                                                  |\n",
       "\n"
      ],
      "text/plain": [
       "   Respondent\n",
       "1   1        \n",
       "2   2        \n",
       "3   3        \n",
       "4   4        \n",
       "5   5        \n",
       "6   6        \n",
       "7   7        \n",
       "8   8        \n",
       "9   9        \n",
       "10 10        \n",
       "   WorkToolsSelect                                                                                                                                                                                                    \n",
       "1  Amazon Web services,Oracle Data Mining/ Oracle R Enterprise,Perl                                                                                                                                                   \n",
       "2  Amazon Machine Learning,Amazon Web services,Cloudera,Hadoop/Hive/Pig,Impala,Java,Mathematica,MATLAB/Octave,Microsoft Excel Data Mining,Microsoft SQL Server Data Mining,NoSQL,Python,R,SAS Base,SAS JMP,SQL,Tableau\n",
       "3  C/C++,Jupyter notebooks,MATLAB/Octave,Python,R,TensorFlow                                                                                                                                                          \n",
       "4  Jupyter notebooks,Python,SQL,TensorFlow                                                                                                                                                                            \n",
       "5  C/C++,Cloudera,Hadoop/Hive/Pig,Java,NoSQL,R,Unix shell / awk                                                                                                                                                       \n",
       "6  SQL                                                                                                                                                                                                                \n",
       "7  Jupyter notebooks,NoSQL,Python,R,SQL,Unix shell / awk                                                                                                                                                              \n",
       "8  Python,Spark / MLlib,Tableau,TensorFlow,Other                                                                                                                                                                      \n",
       "9  Jupyter notebooks,MATLAB/Octave,Python,SAS Base,SQL                                                                                                                                                                \n",
       "10 C/C++,IBM Cognos,MATLAB/Octave,Microsoft Excel Data Mining,Microsoft R Server (Formerly Revolution Analytics),Microsoft SQL Server Data Mining,Perl,Python,R,SQL,Unix shell / awk                                  \n",
       "   LanguageRecommendationSelect EmployerIndustry\n",
       "1  F#                           Internet-based  \n",
       "2  Python                       Mix of fields   \n",
       "3  Python                       Technology      \n",
       "4  Python                       Academic        \n",
       "5  R                            Government      \n",
       "6  Python                       Non-profit      \n",
       "7  Python                       Internet-based  \n",
       "8  Python                       Mix of fields   \n",
       "9  Python                       Financial       \n",
       "10 R                            Technology      \n",
       "   WorkAlgorithmsSelect                                                                                                           \n",
       "1  Neural Networks,Random Forests,RNNs                                                                                            \n",
       "2  Bayesian Techniques,Decision Trees,Random Forests,Regression/Logistic Regression                                               \n",
       "3  Bayesian Techniques,CNNs,Ensemble Methods,Neural Networks,Regression/Logistic Regression,SVMs                                  \n",
       "4  Bayesian Techniques,CNNs,Decision Trees,Gradient Boosted Machines,Neural Networks,Random Forests,Regression/Logistic Regression\n",
       "5  NA                                                                                                                             \n",
       "6  NA                                                                                                                             \n",
       "7  CNNs,Decision Trees,Gradient Boosted Machines,Random Forests,Regression/Logistic Regression,SVMs                               \n",
       "8  Bayesian Techniques,CNNs,HMMs,Neural Networks,Random Forests,Regression/Logistic Regression,SVMs                               \n",
       "9  Ensemble Methods,Gradient Boosted Machines                                                                                     \n",
       "10 Bayesian Techniques,Regression/Logistic Regression                                                                             "
      ]
     },
     "metadata": {},
     "output_type": "display_data"
    }
   ],
   "source": [
    "# Loading necessary packages\n",
    "# install.packages(\"tidyverse\", repos='http://cran.us.r-project.org')\n",
    "library(tidyverse)\n",
    "\n",
    "# Loading the data\n",
    "responses <- read_csv(\"datasets/kagglesurvey.csv\")\n",
    "\n",
    "# Printing the first 10 rows\n",
    "head(responses,n=10)"
   ]
  },
  {
   "cell_type": "markdown",
   "metadata": {
    "dc": {
     "key": "12"
    },
    "deletable": false,
    "editable": false,
    "run_control": {
     "frozen": true
    },
    "tags": [
     "context"
    ]
   },
   "source": [
    "## 2. Using multiple tools\n",
    "<p>Now that we have loaded in the survey results, we want to focus on the tools and languages that the survey respondents use at work.</p>\n",
    "<p>To get a better idea of how the data are formatted, we will look at the first respondent's tool-use and see that this survey-taker listed multiple tools that are each separated by a comma. To learn how many people use each tool, we need to separate out all of the tools used by each individual. There are several ways to complete this task, but we will use <code>str_split()</code> from <code>stringr</code> to separate the tools at each comma. Since that will create a list inside of the data frame, we can use the <code>tidyr</code> function <code>unnest()</code> to separate each list item into a new row.</p>"
   ]
  },
  {
   "cell_type": "code",
   "execution_count": 13,
   "metadata": {
    "dc": {
     "key": "12"
    },
    "tags": [
     "sample_code"
    ]
   },
   "outputs": [
    {
     "data": {
      "text/html": [
       "<table>\n",
       "<thead><tr><th scope=col>WorkToolsSelect</th></tr></thead>\n",
       "<tbody>\n",
       "\t<tr><td>Amazon Web services,Oracle Data Mining/ Oracle R Enterprise,Perl</td></tr>\n",
       "</tbody>\n",
       "</table>\n"
      ],
      "text/latex": [
       "\\begin{tabular}{r|l}\n",
       " WorkToolsSelect\\\\\n",
       "\\hline\n",
       "\t Amazon Web services,Oracle Data Mining/ Oracle R Enterprise,Perl\\\\\n",
       "\\end{tabular}\n"
      ],
      "text/markdown": [
       "\n",
       "| WorkToolsSelect |\n",
       "|---|\n",
       "| Amazon Web services,Oracle Data Mining/ Oracle R Enterprise,Perl |\n",
       "\n"
      ],
      "text/plain": [
       "  WorkToolsSelect                                                 \n",
       "1 Amazon Web services,Oracle Data Mining/ Oracle R Enterprise,Perl"
      ]
     },
     "metadata": {},
     "output_type": "display_data"
    },
    {
     "data": {
      "text/html": [
       "<table>\n",
       "<thead><tr><th scope=col>Respondent</th><th scope=col>WorkToolsSelect</th><th scope=col>LanguageRecommendationSelect</th><th scope=col>EmployerIndustry</th><th scope=col>WorkAlgorithmsSelect</th><th scope=col>work_tools</th></tr></thead>\n",
       "<tbody>\n",
       "\t<tr><td>1                                                                                                                                                                                                                  </td><td>Amazon Web services,Oracle Data Mining/ Oracle R Enterprise,Perl                                                                                                                                                   </td><td>F#                                                                                                                                                                                                                 </td><td>Internet-based                                                                                                                                                                                                     </td><td>Neural Networks,Random Forests,RNNs                                                                                                                                                                                </td><td>Amazon Web services                                                                                                                                                                                                </td></tr>\n",
       "\t<tr><td>1                                                                                                                                                                                                                  </td><td>Amazon Web services,Oracle Data Mining/ Oracle R Enterprise,Perl                                                                                                                                                   </td><td>F#                                                                                                                                                                                                                 </td><td>Internet-based                                                                                                                                                                                                     </td><td>Neural Networks,Random Forests,RNNs                                                                                                                                                                                </td><td>Oracle Data Mining/ Oracle R Enterprise                                                                                                                                                                            </td></tr>\n",
       "\t<tr><td>1                                                                                                                                                                                                                  </td><td>Amazon Web services,Oracle Data Mining/ Oracle R Enterprise,Perl                                                                                                                                                   </td><td>F#                                                                                                                                                                                                                 </td><td>Internet-based                                                                                                                                                                                                     </td><td>Neural Networks,Random Forests,RNNs                                                                                                                                                                                </td><td>Perl                                                                                                                                                                                                               </td></tr>\n",
       "\t<tr><td>2                                                                                                                                                                                                                  </td><td>Amazon Machine Learning,Amazon Web services,Cloudera,Hadoop/Hive/Pig,Impala,Java,Mathematica,MATLAB/Octave,Microsoft Excel Data Mining,Microsoft SQL Server Data Mining,NoSQL,Python,R,SAS Base,SAS JMP,SQL,Tableau</td><td>Python                                                                                                                                                                                                             </td><td>Mix of fields                                                                                                                                                                                                      </td><td>Bayesian Techniques,Decision Trees,Random Forests,Regression/Logistic Regression                                                                                                                                   </td><td>Amazon Machine Learning                                                                                                                                                                                            </td></tr>\n",
       "\t<tr><td>2                                                                                                                                                                                                                  </td><td>Amazon Machine Learning,Amazon Web services,Cloudera,Hadoop/Hive/Pig,Impala,Java,Mathematica,MATLAB/Octave,Microsoft Excel Data Mining,Microsoft SQL Server Data Mining,NoSQL,Python,R,SAS Base,SAS JMP,SQL,Tableau</td><td>Python                                                                                                                                                                                                             </td><td>Mix of fields                                                                                                                                                                                                      </td><td>Bayesian Techniques,Decision Trees,Random Forests,Regression/Logistic Regression                                                                                                                                   </td><td>Amazon Web services                                                                                                                                                                                                </td></tr>\n",
       "\t<tr><td>2                                                                                                                                                                                                                  </td><td>Amazon Machine Learning,Amazon Web services,Cloudera,Hadoop/Hive/Pig,Impala,Java,Mathematica,MATLAB/Octave,Microsoft Excel Data Mining,Microsoft SQL Server Data Mining,NoSQL,Python,R,SAS Base,SAS JMP,SQL,Tableau</td><td>Python                                                                                                                                                                                                             </td><td>Mix of fields                                                                                                                                                                                                      </td><td>Bayesian Techniques,Decision Trees,Random Forests,Regression/Logistic Regression                                                                                                                                   </td><td>Cloudera                                                                                                                                                                                                           </td></tr>\n",
       "</tbody>\n",
       "</table>\n"
      ],
      "text/latex": [
       "\\begin{tabular}{r|llllll}\n",
       " Respondent & WorkToolsSelect & LanguageRecommendationSelect & EmployerIndustry & WorkAlgorithmsSelect & work\\_tools\\\\\n",
       "\\hline\n",
       "\t 1                                                                                                                                                                                                                   & Amazon Web services,Oracle Data Mining/ Oracle R Enterprise,Perl                                                                                                                                                    & F\\#                                                                                                                                                                                                                & Internet-based                                                                                                                                                                                                      & Neural Networks,Random Forests,RNNs                                                                                                                                                                                 & Amazon Web services                                                                                                                                                                                                \\\\\n",
       "\t 1                                                                                                                                                                                                                   & Amazon Web services,Oracle Data Mining/ Oracle R Enterprise,Perl                                                                                                                                                    & F\\#                                                                                                                                                                                                                & Internet-based                                                                                                                                                                                                      & Neural Networks,Random Forests,RNNs                                                                                                                                                                                 & Oracle Data Mining/ Oracle R Enterprise                                                                                                                                                                            \\\\\n",
       "\t 1                                                                                                                                                                                                                   & Amazon Web services,Oracle Data Mining/ Oracle R Enterprise,Perl                                                                                                                                                    & F\\#                                                                                                                                                                                                                & Internet-based                                                                                                                                                                                                      & Neural Networks,Random Forests,RNNs                                                                                                                                                                                 & Perl                                                                                                                                                                                                               \\\\\n",
       "\t 2                                                                                                                                                                                                                   & Amazon Machine Learning,Amazon Web services,Cloudera,Hadoop/Hive/Pig,Impala,Java,Mathematica,MATLAB/Octave,Microsoft Excel Data Mining,Microsoft SQL Server Data Mining,NoSQL,Python,R,SAS Base,SAS JMP,SQL,Tableau & Python                                                                                                                                                                                                              & Mix of fields                                                                                                                                                                                                       & Bayesian Techniques,Decision Trees,Random Forests,Regression/Logistic Regression                                                                                                                                    & Amazon Machine Learning                                                                                                                                                                                            \\\\\n",
       "\t 2                                                                                                                                                                                                                   & Amazon Machine Learning,Amazon Web services,Cloudera,Hadoop/Hive/Pig,Impala,Java,Mathematica,MATLAB/Octave,Microsoft Excel Data Mining,Microsoft SQL Server Data Mining,NoSQL,Python,R,SAS Base,SAS JMP,SQL,Tableau & Python                                                                                                                                                                                                              & Mix of fields                                                                                                                                                                                                       & Bayesian Techniques,Decision Trees,Random Forests,Regression/Logistic Regression                                                                                                                                    & Amazon Web services                                                                                                                                                                                                \\\\\n",
       "\t 2                                                                                                                                                                                                                   & Amazon Machine Learning,Amazon Web services,Cloudera,Hadoop/Hive/Pig,Impala,Java,Mathematica,MATLAB/Octave,Microsoft Excel Data Mining,Microsoft SQL Server Data Mining,NoSQL,Python,R,SAS Base,SAS JMP,SQL,Tableau & Python                                                                                                                                                                                                              & Mix of fields                                                                                                                                                                                                       & Bayesian Techniques,Decision Trees,Random Forests,Regression/Logistic Regression                                                                                                                                    & Cloudera                                                                                                                                                                                                           \\\\\n",
       "\\end{tabular}\n"
      ],
      "text/markdown": [
       "\n",
       "| Respondent | WorkToolsSelect | LanguageRecommendationSelect | EmployerIndustry | WorkAlgorithmsSelect | work_tools |\n",
       "|---|---|---|---|---|---|\n",
       "| 1                                                                                                                                                                                                                   | Amazon Web services,Oracle Data Mining/ Oracle R Enterprise,Perl                                                                                                                                                    | F#                                                                                                                                                                                                                  | Internet-based                                                                                                                                                                                                      | Neural Networks,Random Forests,RNNs                                                                                                                                                                                 | Amazon Web services                                                                                                                                                                                                 |\n",
       "| 1                                                                                                                                                                                                                   | Amazon Web services,Oracle Data Mining/ Oracle R Enterprise,Perl                                                                                                                                                    | F#                                                                                                                                                                                                                  | Internet-based                                                                                                                                                                                                      | Neural Networks,Random Forests,RNNs                                                                                                                                                                                 | Oracle Data Mining/ Oracle R Enterprise                                                                                                                                                                             |\n",
       "| 1                                                                                                                                                                                                                   | Amazon Web services,Oracle Data Mining/ Oracle R Enterprise,Perl                                                                                                                                                    | F#                                                                                                                                                                                                                  | Internet-based                                                                                                                                                                                                      | Neural Networks,Random Forests,RNNs                                                                                                                                                                                 | Perl                                                                                                                                                                                                                |\n",
       "| 2                                                                                                                                                                                                                   | Amazon Machine Learning,Amazon Web services,Cloudera,Hadoop/Hive/Pig,Impala,Java,Mathematica,MATLAB/Octave,Microsoft Excel Data Mining,Microsoft SQL Server Data Mining,NoSQL,Python,R,SAS Base,SAS JMP,SQL,Tableau | Python                                                                                                                                                                                                              | Mix of fields                                                                                                                                                                                                       | Bayesian Techniques,Decision Trees,Random Forests,Regression/Logistic Regression                                                                                                                                    | Amazon Machine Learning                                                                                                                                                                                             |\n",
       "| 2                                                                                                                                                                                                                   | Amazon Machine Learning,Amazon Web services,Cloudera,Hadoop/Hive/Pig,Impala,Java,Mathematica,MATLAB/Octave,Microsoft Excel Data Mining,Microsoft SQL Server Data Mining,NoSQL,Python,R,SAS Base,SAS JMP,SQL,Tableau | Python                                                                                                                                                                                                              | Mix of fields                                                                                                                                                                                                       | Bayesian Techniques,Decision Trees,Random Forests,Regression/Logistic Regression                                                                                                                                    | Amazon Web services                                                                                                                                                                                                 |\n",
       "| 2                                                                                                                                                                                                                   | Amazon Machine Learning,Amazon Web services,Cloudera,Hadoop/Hive/Pig,Impala,Java,Mathematica,MATLAB/Octave,Microsoft Excel Data Mining,Microsoft SQL Server Data Mining,NoSQL,Python,R,SAS Base,SAS JMP,SQL,Tableau | Python                                                                                                                                                                                                              | Mix of fields                                                                                                                                                                                                       | Bayesian Techniques,Decision Trees,Random Forests,Regression/Logistic Regression                                                                                                                                    | Cloudera                                                                                                                                                                                                            |\n",
       "\n"
      ],
      "text/plain": [
       "  Respondent\n",
       "1 1         \n",
       "2 1         \n",
       "3 1         \n",
       "4 2         \n",
       "5 2         \n",
       "6 2         \n",
       "  WorkToolsSelect                                                                                                                                                                                                    \n",
       "1 Amazon Web services,Oracle Data Mining/ Oracle R Enterprise,Perl                                                                                                                                                   \n",
       "2 Amazon Web services,Oracle Data Mining/ Oracle R Enterprise,Perl                                                                                                                                                   \n",
       "3 Amazon Web services,Oracle Data Mining/ Oracle R Enterprise,Perl                                                                                                                                                   \n",
       "4 Amazon Machine Learning,Amazon Web services,Cloudera,Hadoop/Hive/Pig,Impala,Java,Mathematica,MATLAB/Octave,Microsoft Excel Data Mining,Microsoft SQL Server Data Mining,NoSQL,Python,R,SAS Base,SAS JMP,SQL,Tableau\n",
       "5 Amazon Machine Learning,Amazon Web services,Cloudera,Hadoop/Hive/Pig,Impala,Java,Mathematica,MATLAB/Octave,Microsoft Excel Data Mining,Microsoft SQL Server Data Mining,NoSQL,Python,R,SAS Base,SAS JMP,SQL,Tableau\n",
       "6 Amazon Machine Learning,Amazon Web services,Cloudera,Hadoop/Hive/Pig,Impala,Java,Mathematica,MATLAB/Octave,Microsoft Excel Data Mining,Microsoft SQL Server Data Mining,NoSQL,Python,R,SAS Base,SAS JMP,SQL,Tableau\n",
       "  LanguageRecommendationSelect EmployerIndustry\n",
       "1 F#                           Internet-based  \n",
       "2 F#                           Internet-based  \n",
       "3 F#                           Internet-based  \n",
       "4 Python                       Mix of fields   \n",
       "5 Python                       Mix of fields   \n",
       "6 Python                       Mix of fields   \n",
       "  WorkAlgorithmsSelect                                                            \n",
       "1 Neural Networks,Random Forests,RNNs                                             \n",
       "2 Neural Networks,Random Forests,RNNs                                             \n",
       "3 Neural Networks,Random Forests,RNNs                                             \n",
       "4 Bayesian Techniques,Decision Trees,Random Forests,Regression/Logistic Regression\n",
       "5 Bayesian Techniques,Decision Trees,Random Forests,Regression/Logistic Regression\n",
       "6 Bayesian Techniques,Decision Trees,Random Forests,Regression/Logistic Regression\n",
       "  work_tools                             \n",
       "1 Amazon Web services                    \n",
       "2 Oracle Data Mining/ Oracle R Enterprise\n",
       "3 Perl                                   \n",
       "4 Amazon Machine Learning                \n",
       "5 Amazon Web services                    \n",
       "6 Cloudera                               "
      ]
     },
     "metadata": {},
     "output_type": "display_data"
    }
   ],
   "source": [
    "# Printing the first respondents' tools and languages\n",
    "responses[1,2]\n",
    "\n",
    "# Creating a new data frame called tools\n",
    "tools <- as.data.frame(responses)\n",
    "\n",
    "# Adding a new column to tools which splits the WorkToolsSelect column at the commas and unnests the new column\n",
    "tools <- tools  %>% \n",
    "    mutate(work_tools = strsplit(WorkToolsSelect,\",\") ) %>% unnest(work_tools)\n",
    "# Viewing the first 6 rows of tools\n",
    "head(tools,n=6)"
   ]
  },
  {
   "cell_type": "markdown",
   "metadata": {
    "dc": {
     "key": "19"
    },
    "deletable": false,
    "editable": false,
    "run_control": {
     "frozen": true
    },
    "tags": [
     "context"
    ]
   },
   "source": [
    "## 3. Counting users of each tool\n",
    "<p>Now that we've split apart all of the tools used by each respondent, we can figure out which tools are the most popular.</p>"
   ]
  },
  {
   "cell_type": "code",
   "execution_count": 14,
   "metadata": {
    "dc": {
     "key": "19"
    },
    "tags": [
     "sample_code"
    ]
   },
   "outputs": [
    {
     "data": {
      "text/html": [
       "<table>\n",
       "<thead><tr><th scope=col>work_tools</th><th scope=col>n</th></tr></thead>\n",
       "<tbody>\n",
       "\t<tr><td>Python           </td><td>6073             </td></tr>\n",
       "\t<tr><td>R                </td><td>4708             </td></tr>\n",
       "\t<tr><td>SQL              </td><td>4261             </td></tr>\n",
       "\t<tr><td>Jupyter notebooks</td><td>3206             </td></tr>\n",
       "\t<tr><td>TensorFlow       </td><td>2256             </td></tr>\n",
       "\t<tr><td>NA               </td><td>2198             </td></tr>\n",
       "</tbody>\n",
       "</table>\n"
      ],
      "text/latex": [
       "\\begin{tabular}{r|ll}\n",
       " work\\_tools & n\\\\\n",
       "\\hline\n",
       "\t Python            & 6073             \\\\\n",
       "\t R                 & 4708             \\\\\n",
       "\t SQL               & 4261             \\\\\n",
       "\t Jupyter notebooks & 3206             \\\\\n",
       "\t TensorFlow        & 2256             \\\\\n",
       "\t NA                & 2198             \\\\\n",
       "\\end{tabular}\n"
      ],
      "text/markdown": [
       "\n",
       "| work_tools | n |\n",
       "|---|---|\n",
       "| Python            | 6073              |\n",
       "| R                 | 4708              |\n",
       "| SQL               | 4261              |\n",
       "| Jupyter notebooks | 3206              |\n",
       "| TensorFlow        | 2256              |\n",
       "| NA                | 2198              |\n",
       "\n"
      ],
      "text/plain": [
       "  work_tools        n   \n",
       "1 Python            6073\n",
       "2 R                 4708\n",
       "3 SQL               4261\n",
       "4 Jupyter notebooks 3206\n",
       "5 TensorFlow        2256\n",
       "6 NA                2198"
      ]
     },
     "metadata": {},
     "output_type": "display_data"
    }
   ],
   "source": [
    "# Creating a new data frame\n",
    "tool_count <- tools\n",
    "\n",
    "# Grouping the data by work_tools, calculate the number of responses in each group\n",
    "tool_count <- tool_count  %>% \n",
    "    group_by(work_tools)  %>% \n",
    "    count(work_tools)\n",
    "\n",
    "# Sorting tool_count so that the most popular tools are at the top\n",
    "tool_count <- tool_count[order(-tool_count$n),]\n",
    "\n",
    "# Printing the first 6 results\n",
    "head(tool_count,n=6)"
   ]
  },
  {
   "cell_type": "markdown",
   "metadata": {
    "dc": {
     "key": "26"
    },
    "deletable": false,
    "editable": false,
    "run_control": {
     "frozen": true
    },
    "tags": [
     "context"
    ]
   },
   "source": [
    "## 4. Plotting the most popular tools\n",
    "<p>Let's see how the most popular tools stack up against the rest.</p>"
   ]
  },
  {
   "cell_type": "code",
   "execution_count": 15,
   "metadata": {
    "dc": {
     "key": "26"
    },
    "tags": [
     "sample_code"
    ]
   },
   "outputs": [
    {
     "data": {
      "image/png": "[encoded data removed]",
      "text/plain": [
       "plot without title"
      ]
     },
     "metadata": {},
     "output_type": "display_data"
    }
   ],
   "source": [
    "# Creating a bar chart of the work_tools column. \n",
    "# Arranging the bars so that the tallest are on the far right\n",
    "ggplot(tool_count,aes(x=reorder(work_tools,n),y=n)) + \n",
    "    geom_bar(stat=\"identity\") +\n",
    "\n",
    "# Rotating the bar labels 90 degrees\n",
    "    theme(axis.text.x = element_text(angle = 90))"
   ]
  },
  {
   "cell_type": "markdown",
   "metadata": {
    "dc": {
     "key": "33"
    },
    "deletable": false,
    "editable": false,
    "run_control": {
     "frozen": true
    },
    "tags": [
     "context"
    ]
   },
   "source": [
    "## 5. The R vs Python debate\n",
    "<p>Within the field of data science, there is a lot of debate among professionals about whether R or Python should reign supreme. You can see from our last figure that R and Python are the two most commonly used languages, but it's possible that many respondents use both R and Python. Let's take a look at how many people use R, Python, and both tools.</p>"
   ]
  },
  {
   "cell_type": "code",
   "execution_count": 16,
   "metadata": {
    "dc": {
     "key": "33"
    },
    "tags": [
     "sample_code"
    ]
   },
   "outputs": [
    {
     "data": {
      "text/html": [
       "<table>\n",
       "<thead><tr><th scope=col>Respondent</th><th scope=col>WorkToolsSelect</th><th scope=col>LanguageRecommendationSelect</th><th scope=col>EmployerIndustry</th><th scope=col>WorkAlgorithmsSelect</th><th scope=col>language_preference</th></tr></thead>\n",
       "<tbody>\n",
       "\t<tr><td>1                                                                                                                                                                                                                  </td><td>Amazon Web services,Oracle Data Mining/ Oracle R Enterprise,Perl                                                                                                                                                   </td><td>F#                                                                                                                                                                                                                 </td><td>Internet-based                                                                                                                                                                                                     </td><td>Neural Networks,Random Forests,RNNs                                                                                                                                                                                </td><td>R                                                                                                                                                                                                                  </td></tr>\n",
       "\t<tr><td>2                                                                                                                                                                                                                  </td><td>Amazon Machine Learning,Amazon Web services,Cloudera,Hadoop/Hive/Pig,Impala,Java,Mathematica,MATLAB/Octave,Microsoft Excel Data Mining,Microsoft SQL Server Data Mining,NoSQL,Python,R,SAS Base,SAS JMP,SQL,Tableau</td><td>Python                                                                                                                                                                                                             </td><td>Mix of fields                                                                                                                                                                                                      </td><td>Bayesian Techniques,Decision Trees,Random Forests,Regression/Logistic Regression                                                                                                                                   </td><td>Both                                                                                                                                                                                                               </td></tr>\n",
       "\t<tr><td>3                                                                                                                                                                                                                  </td><td>C/C++,Jupyter notebooks,MATLAB/Octave,Python,R,TensorFlow                                                                                                                                                          </td><td>Python                                                                                                                                                                                                             </td><td>Technology                                                                                                                                                                                                         </td><td>Bayesian Techniques,CNNs,Ensemble Methods,Neural Networks,Regression/Logistic Regression,SVMs                                                                                                                      </td><td>Both                                                                                                                                                                                                               </td></tr>\n",
       "\t<tr><td>4                                                                                                                                                                                                                  </td><td>Jupyter notebooks,Python,SQL,TensorFlow                                                                                                                                                                            </td><td>Python                                                                                                                                                                                                             </td><td>Academic                                                                                                                                                                                                           </td><td>Bayesian Techniques,CNNs,Decision Trees,Gradient Boosted Machines,Neural Networks,Random Forests,Regression/Logistic Regression                                                                                    </td><td>Python                                                                                                                                                                                                             </td></tr>\n",
       "\t<tr><td>5                                                                                                                                                                                                                  </td><td>C/C++,Cloudera,Hadoop/Hive/Pig,Java,NoSQL,R,Unix shell / awk                                                                                                                                                       </td><td>R                                                                                                                                                                                                                  </td><td>Government                                                                                                                                                                                                         </td><td>NA                                                                                                                                                                                                                 </td><td>R                                                                                                                                                                                                                  </td></tr>\n",
       "\t<tr><td>6                                                                                                                                                                                                                  </td><td>SQL                                                                                                                                                                                                                </td><td>Python                                                                                                                                                                                                             </td><td>Non-profit                                                                                                                                                                                                         </td><td>NA                                                                                                                                                                                                                 </td><td>Neither                                                                                                                                                                                                            </td></tr>\n",
       "</tbody>\n",
       "</table>\n"
      ],
      "text/latex": [
       "\\begin{tabular}{r|llllll}\n",
       " Respondent & WorkToolsSelect & LanguageRecommendationSelect & EmployerIndustry & WorkAlgorithmsSelect & language\\_preference\\\\\n",
       "\\hline\n",
       "\t 1                                                                                                                                                                                                                   & Amazon Web services,Oracle Data Mining/ Oracle R Enterprise,Perl                                                                                                                                                    & F\\#                                                                                                                                                                                                                & Internet-based                                                                                                                                                                                                      & Neural Networks,Random Forests,RNNs                                                                                                                                                                                 & R                                                                                                                                                                                                                  \\\\\n",
       "\t 2                                                                                                                                                                                                                   & Amazon Machine Learning,Amazon Web services,Cloudera,Hadoop/Hive/Pig,Impala,Java,Mathematica,MATLAB/Octave,Microsoft Excel Data Mining,Microsoft SQL Server Data Mining,NoSQL,Python,R,SAS Base,SAS JMP,SQL,Tableau & Python                                                                                                                                                                                                              & Mix of fields                                                                                                                                                                                                       & Bayesian Techniques,Decision Trees,Random Forests,Regression/Logistic Regression                                                                                                                                    & Both                                                                                                                                                                                                               \\\\\n",
       "\t 3                                                                                                                                                                                                                   & C/C++,Jupyter notebooks,MATLAB/Octave,Python,R,TensorFlow                                                                                                                                                           & Python                                                                                                                                                                                                              & Technology                                                                                                                                                                                                          & Bayesian Techniques,CNNs,Ensemble Methods,Neural Networks,Regression/Logistic Regression,SVMs                                                                                                                       & Both                                                                                                                                                                                                               \\\\\n",
       "\t 4                                                                                                                                                                                                                   & Jupyter notebooks,Python,SQL,TensorFlow                                                                                                                                                                             & Python                                                                                                                                                                                                              & Academic                                                                                                                                                                                                            & Bayesian Techniques,CNNs,Decision Trees,Gradient Boosted Machines,Neural Networks,Random Forests,Regression/Logistic Regression                                                                                     & Python                                                                                                                                                                                                             \\\\\n",
       "\t 5                                                                                                                                                                                                                   & C/C++,Cloudera,Hadoop/Hive/Pig,Java,NoSQL,R,Unix shell / awk                                                                                                                                                        & R                                                                                                                                                                                                                   & Government                                                                                                                                                                                                          & NA                                                                                                                                                                                                                  & R                                                                                                                                                                                                                  \\\\\n",
       "\t 6                                                                                                                                                                                                                   & SQL                                                                                                                                                                                                                 & Python                                                                                                                                                                                                              & Non-profit                                                                                                                                                                                                          & NA                                                                                                                                                                                                                  & Neither                                                                                                                                                                                                            \\\\\n",
       "\\end{tabular}\n"
      ],
      "text/markdown": [
       "\n",
       "| Respondent | WorkToolsSelect | LanguageRecommendationSelect | EmployerIndustry | WorkAlgorithmsSelect | language_preference |\n",
       "|---|---|---|---|---|---|\n",
       "| 1                                                                                                                                                                                                                   | Amazon Web services,Oracle Data Mining/ Oracle R Enterprise,Perl                                                                                                                                                    | F#                                                                                                                                                                                                                  | Internet-based                                                                                                                                                                                                      | Neural Networks,Random Forests,RNNs                                                                                                                                                                                 | R                                                                                                                                                                                                                   |\n",
       "| 2                                                                                                                                                                                                                   | Amazon Machine Learning,Amazon Web services,Cloudera,Hadoop/Hive/Pig,Impala,Java,Mathematica,MATLAB/Octave,Microsoft Excel Data Mining,Microsoft SQL Server Data Mining,NoSQL,Python,R,SAS Base,SAS JMP,SQL,Tableau | Python                                                                                                                                                                                                              | Mix of fields                                                                                                                                                                                                       | Bayesian Techniques,Decision Trees,Random Forests,Regression/Logistic Regression                                                                                                                                    | Both                                                                                                                                                                                                                |\n",
       "| 3                                                                                                                                                                                                                   | C/C++,Jupyter notebooks,MATLAB/Octave,Python,R,TensorFlow                                                                                                                                                           | Python                                                                                                                                                                                                              | Technology                                                                                                                                                                                                          | Bayesian Techniques,CNNs,Ensemble Methods,Neural Networks,Regression/Logistic Regression,SVMs                                                                                                                       | Both                                                                                                                                                                                                                |\n",
       "| 4                                                                                                                                                                                                                   | Jupyter notebooks,Python,SQL,TensorFlow                                                                                                                                                                             | Python                                                                                                                                                                                                              | Academic                                                                                                                                                                                                            | Bayesian Techniques,CNNs,Decision Trees,Gradient Boosted Machines,Neural Networks,Random Forests,Regression/Logistic Regression                                                                                     | Python                                                                                                                                                                                                              |\n",
       "| 5                                                                                                                                                                                                                   | C/C++,Cloudera,Hadoop/Hive/Pig,Java,NoSQL,R,Unix shell / awk                                                                                                                                                        | R                                                                                                                                                                                                                   | Government                                                                                                                                                                                                          | NA                                                                                                                                                                                                                  | R                                                                                                                                                                                                                   |\n",
       "| 6                                                                                                                                                                                                                   | SQL                                                                                                                                                                                                                 | Python                                                                                                                                                                                                              | Non-profit                                                                                                                                                                                                          | NA                                                                                                                                                                                                                  | Neither                                                                                                                                                                                                             |\n",
       "\n"
      ],
      "text/plain": [
       "  Respondent\n",
       "1 1         \n",
       "2 2         \n",
       "3 3         \n",
       "4 4         \n",
       "5 5         \n",
       "6 6         \n",
       "  WorkToolsSelect                                                                                                                                                                                                    \n",
       "1 Amazon Web services,Oracle Data Mining/ Oracle R Enterprise,Perl                                                                                                                                                   \n",
       "2 Amazon Machine Learning,Amazon Web services,Cloudera,Hadoop/Hive/Pig,Impala,Java,Mathematica,MATLAB/Octave,Microsoft Excel Data Mining,Microsoft SQL Server Data Mining,NoSQL,Python,R,SAS Base,SAS JMP,SQL,Tableau\n",
       "3 C/C++,Jupyter notebooks,MATLAB/Octave,Python,R,TensorFlow                                                                                                                                                          \n",
       "4 Jupyter notebooks,Python,SQL,TensorFlow                                                                                                                                                                            \n",
       "5 C/C++,Cloudera,Hadoop/Hive/Pig,Java,NoSQL,R,Unix shell / awk                                                                                                                                                       \n",
       "6 SQL                                                                                                                                                                                                                \n",
       "  LanguageRecommendationSelect EmployerIndustry\n",
       "1 F#                           Internet-based  \n",
       "2 Python                       Mix of fields   \n",
       "3 Python                       Technology      \n",
       "4 Python                       Academic        \n",
       "5 R                            Government      \n",
       "6 Python                       Non-profit      \n",
       "  WorkAlgorithmsSelect                                                                                                           \n",
       "1 Neural Networks,Random Forests,RNNs                                                                                            \n",
       "2 Bayesian Techniques,Decision Trees,Random Forests,Regression/Logistic Regression                                               \n",
       "3 Bayesian Techniques,CNNs,Ensemble Methods,Neural Networks,Regression/Logistic Regression,SVMs                                  \n",
       "4 Bayesian Techniques,CNNs,Decision Trees,Gradient Boosted Machines,Neural Networks,Random Forests,Regression/Logistic Regression\n",
       "5 NA                                                                                                                             \n",
       "6 NA                                                                                                                             \n",
       "  language_preference\n",
       "1 R                  \n",
       "2 Both               \n",
       "3 Both               \n",
       "4 Python             \n",
       "5 R                  \n",
       "6 Neither            "
      ]
     },
     "metadata": {},
     "output_type": "display_data"
    }
   ],
   "source": [
    "# Creating a new data frame called debate_tools\n",
    "debate_tools <- responses\n",
    "\n",
    "# Creating a new column called language preference, based on the conditions specified in the Instructions\n",
    "debate_tools <- debate_tools  %>% \n",
    "   mutate(language_preference = case_when( \n",
    "   grepl(\"R\",WorkToolsSelect)>grepl(\"Python\",WorkToolsSelect)~\"R\",\n",
    "   grepl(\"R\",WorkToolsSelect)<grepl(\"Python\",WorkToolsSelect)~\"Python\",\n",
    "   grepl(\"R\",WorkToolsSelect)==1 & grepl(\"Python\",WorkToolsSelect)==1~\"Both\",\n",
    "   grepl(\"R\",WorkToolsSelect)==0 & grepl(\"Python\",WorkToolsSelect)==0~\"Neither\"))\n",
    "\n",
    "# Printing the first 6 rows\n",
    "head(debate_tools,n=6)"
   ]
  },
  {
   "cell_type": "markdown",
   "metadata": {
    "dc": {
     "key": "40"
    },
    "deletable": false,
    "editable": false,
    "run_control": {
     "frozen": true
    },
    "tags": [
     "context"
    ]
   },
   "source": [
    "## 6. Plotting R vs Python users\n",
    "<p>Now we just need to take a closer look at how many respondents use R, Python, and both!</p>"
   ]
  },
  {
   "cell_type": "code",
   "execution_count": 17,
   "metadata": {
    "dc": {
     "key": "40"
    },
    "tags": [
     "sample_code"
    ]
   },
   "outputs": [
    {
     "data": {
      "image/png": "[encoded data removed]",
      "text/plain": [
       "plot without title"
      ]
     },
     "metadata": {},
     "output_type": "display_data"
    }
   ],
   "source": [
    "# Creating a new data frame\n",
    "debate_plot <- debate_tools\n",
    "\n",
    "# Grouping by language preference and calculate number of responses\n",
    "# Removing the row for users of \"neither\"\n",
    "debate_plot <- debate_plot  %>% \n",
    "   group_by(language_preference)  %>% \n",
    "    count()  %>% \n",
    "    filter(language_preference!=\"Neither\")\n",
    "\n",
    "\n",
    "# Creating a bar chart\n",
    "ggplot(debate_plot,aes(x=language_preference,y=n))+geom_bar(stat=\"identity\")"
   ]
  },
  {
   "cell_type": "markdown",
   "metadata": {
    "dc": {
     "key": "47"
    },
    "deletable": false,
    "editable": false,
    "run_control": {
     "frozen": true
    },
    "tags": [
     "context"
    ]
   },
   "source": [
    "## 7. Language recommendations\n",
    "<p>It looks like the largest group of professionals program in both Python and R. But what happens when they are asked which language they recommend to new learners? Do R lovers always recommend R?</p>"
   ]
  },
  {
   "cell_type": "code",
   "execution_count": 18,
   "metadata": {
    "dc": {
     "key": "47"
    },
    "tags": [
     "sample_code"
    ]
   },
   "outputs": [
    {
     "data": {
      "text/html": [
       "<table>\n",
       "<thead><tr><th scope=col>language_preference</th><th scope=col>LanguageRecommendationSelect</th><th scope=col>n</th><th scope=col>id</th></tr></thead>\n",
       "<tbody>\n",
       "\t<tr><td>Both    </td><td>Python  </td><td>1917    </td><td>1       </td></tr>\n",
       "\t<tr><td>Both    </td><td>R       </td><td> 912    </td><td>2       </td></tr>\n",
       "\t<tr><td>Both    </td><td>SQL     </td><td> 108    </td><td>3       </td></tr>\n",
       "\t<tr><td>Both    </td><td>Scala   </td><td>  28    </td><td>4       </td></tr>\n",
       "\t<tr><td>Neither </td><td>Python  </td><td> 196    </td><td>1       </td></tr>\n",
       "\t<tr><td>Neither </td><td>R       </td><td>  94    </td><td>2       </td></tr>\n",
       "\t<tr><td>Neither </td><td>SQL     </td><td>  53    </td><td>3       </td></tr>\n",
       "\t<tr><td>Neither </td><td>Matlab  </td><td>  47    </td><td>4       </td></tr>\n",
       "\t<tr><td>Python  </td><td>Python  </td><td>1742    </td><td>1       </td></tr>\n",
       "\t<tr><td>Python  </td><td>C/C++/C#</td><td>  48    </td><td>2       </td></tr>\n",
       "\t<tr><td>Python  </td><td>Matlab  </td><td>  43    </td><td>3       </td></tr>\n",
       "\t<tr><td>Python  </td><td>SQL     </td><td>  36    </td><td>4       </td></tr>\n",
       "\t<tr><td>R       </td><td>R       </td><td> 632    </td><td>1       </td></tr>\n",
       "\t<tr><td>R       </td><td>Python  </td><td> 194    </td><td>2       </td></tr>\n",
       "\t<tr><td>R       </td><td>SQL     </td><td>  75    </td><td>3       </td></tr>\n",
       "\t<tr><td>R       </td><td>C/C++/C#</td><td>  27    </td><td>4       </td></tr>\n",
       "</tbody>\n",
       "</table>\n"
      ],
      "text/latex": [
       "\\begin{tabular}{r|llll}\n",
       " language\\_preference & LanguageRecommendationSelect & n & id\\\\\n",
       "\\hline\n",
       "\t Both     & Python   & 1917     & 1       \\\\\n",
       "\t Both     & R        &  912     & 2       \\\\\n",
       "\t Both     & SQL      &  108     & 3       \\\\\n",
       "\t Both     & Scala    &   28     & 4       \\\\\n",
       "\t Neither  & Python   &  196     & 1       \\\\\n",
       "\t Neither  & R        &   94     & 2       \\\\\n",
       "\t Neither  & SQL      &   53     & 3       \\\\\n",
       "\t Neither  & Matlab   &   47     & 4       \\\\\n",
       "\t Python   & Python   & 1742     & 1       \\\\\n",
       "\t Python     & C/C++/C\\# &   48       & 2         \\\\\n",
       "\t Python   & Matlab   &   43     & 3       \\\\\n",
       "\t Python   & SQL      &   36     & 4       \\\\\n",
       "\t R        & R        &  632     & 1       \\\\\n",
       "\t R        & Python   &  194     & 2       \\\\\n",
       "\t R        & SQL      &   75     & 3       \\\\\n",
       "\t R          & C/C++/C\\# &   27       & 4         \\\\\n",
       "\\end{tabular}\n"
      ],
      "text/markdown": [
       "\n",
       "| language_preference | LanguageRecommendationSelect | n | id |\n",
       "|---|---|---|---|\n",
       "| Both     | Python   | 1917     | 1        |\n",
       "| Both     | R        |  912     | 2        |\n",
       "| Both     | SQL      |  108     | 3        |\n",
       "| Both     | Scala    |   28     | 4        |\n",
       "| Neither  | Python   |  196     | 1        |\n",
       "| Neither  | R        |   94     | 2        |\n",
       "| Neither  | SQL      |   53     | 3        |\n",
       "| Neither  | Matlab   |   47     | 4        |\n",
       "| Python   | Python   | 1742     | 1        |\n",
       "| Python   | C/C++/C# |   48     | 2        |\n",
       "| Python   | Matlab   |   43     | 3        |\n",
       "| Python   | SQL      |   36     | 4        |\n",
       "| R        | R        |  632     | 1        |\n",
       "| R        | Python   |  194     | 2        |\n",
       "| R        | SQL      |   75     | 3        |\n",
       "| R        | C/C++/C# |   27     | 4        |\n",
       "\n"
      ],
      "text/plain": [
       "   language_preference LanguageRecommendationSelect n    id\n",
       "1  Both                Python                       1917 1 \n",
       "2  Both                R                             912 2 \n",
       "3  Both                SQL                           108 3 \n",
       "4  Both                Scala                          28 4 \n",
       "5  Neither             Python                        196 1 \n",
       "6  Neither             R                              94 2 \n",
       "7  Neither             SQL                            53 3 \n",
       "8  Neither             Matlab                         47 4 \n",
       "9  Python              Python                       1742 1 \n",
       "10 Python              C/C++/C#                       48 2 \n",
       "11 Python              Matlab                         43 3 \n",
       "12 Python              SQL                            36 4 \n",
       "13 R                   R                             632 1 \n",
       "14 R                   Python                        194 2 \n",
       "15 R                   SQL                            75 3 \n",
       "16 R                   C/C++/C#                       27 4 "
      ]
     },
     "metadata": {},
     "output_type": "display_data"
    }
   ],
   "source": [
    "# Creating a new data frame\n",
    "recommendations <- debate_tools\n",
    "# Grouping by language_preference and then LanguageRecommendationSelect\n",
    "recommendations <- recommendations  %>% \n",
    "    group_by(language_preference,LanguageRecommendationSelect)  %>% \n",
    "    count()\n",
    "\n",
    "# Removing empty responses and include the top recommendations\n",
    "recommendations <- recommendations %>% filter(is.na(LanguageRecommendationSelect)==FALSE) %>% arrange(language_preference,desc(n)) \n",
    "recommendations <- recommendations %>% group_by(language_preference) %>% mutate(id=row_number()) %>% filter(id<=4)\n",
    "recommendations "
   ]
  },
  {
   "cell_type": "markdown",
   "metadata": {
    "dc": {
     "key": "54"
    },
    "deletable": false,
    "editable": false,
    "run_control": {
     "frozen": true
    },
    "tags": [
     "context"
    ]
   },
   "source": [
    "## 8. The most recommended language by the language used\n",
    "<p>Just one thing left. Let's graphically determine which languages are most recommended based on the language that a person uses.</p>"
   ]
  },
  {
   "cell_type": "code",
   "execution_count": 19,
   "metadata": {
    "dc": {
     "key": "54"
    },
    "tags": [
     "sample_code"
    ]
   },
   "outputs": [
    {
     "data": {
      "image/png": "[encoded data removed]",
      "text/plain": [
       "plot without title"
      ]
     },
     "metadata": {},
     "output_type": "display_data"
    }
   ],
   "source": [
    "# Creating a faceted bar plot\n",
    "ggplot(recommendations, aes(x=LanguageRecommendationSelect,y=n)) +geom_bar(stat=\"identity\") +facet_wrap(~language_preference)"
   ]
  },
  {
   "cell_type": "markdown",
   "metadata": {
    "dc": {
     "key": "61"
    },
    "deletable": false,
    "editable": false,
    "run_control": {
     "frozen": true
    },
    "tags": [
     "context"
    ]
   },
   "source": [
    "## 9. The moral of the story\n",
    "<p>So we've made it to the end. We've found that Python is the most popular language used among Kaggle data scientists, but R users aren't far behind. And while Python users may highly recommend that new learners learn Python, would R users find the following statement <code>TRUE</code> or <code>FALSE</code>? </p>"
   ]
  },
  {
   "cell_type": "code",
   "execution_count": 20,
   "metadata": {
    "dc": {
     "key": "61"
    },
    "tags": [
     "sample_code"
    ]
   },
   "outputs": [],
   "source": [
    "# Would R users find this statement TRUE or FALSE?\n",
    "R_is_number_one = TRUE"
   ]
  }
 ],
 "metadata": {
  "kernelspec": {
   "display_name": "R",
   "language": "R",
   "name": "ir"
  },
  "language_info": {
   "codemirror_mode": "r",
   "file_extension": ".r",
   "mimetype": "text/x-r-source",
   "name": "R",
   "pygments_lexer": "r",
   "version": "3.6.1"
  }
 },
 "nbformat": 4,
 "nbformat_minor": 2
}
